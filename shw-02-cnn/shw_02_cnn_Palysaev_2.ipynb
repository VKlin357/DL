{
  "cells": [
    {
      "cell_type": "markdown",
      "metadata": {
        "id": "w35Q6hOIy4sk",
        "pycharm": {
          "name": "#%% md\n"
        }
      },
      "source": [
        "# Глубинное обучение 1 / Введение в глубинное обучение, ФКН ВШЭ\n",
        "\n",
        "## Домашнее задание 2: сверточный классификатор.\n",
        "\n",
        "### Общая информация\n",
        "\n",
        "Оценка после штрафа после мягкого дедлайна вычисляется по формуле $M_{\\text{penalty}} = M_{\\text{full}} \\cdot 0.85^{t/1440}$, где $M_{\\text{full}}$ — полная оценка за работу без учета штрафа, а $t$ — время в минутах, прошедшее после мягкого дедлайна (округление до двух цифр после запятой). Таким образом, спустя первые сутки после мягкого дедлайна вы не можете получить оценку выше 8.5, а если сдать через четыре дня после мягкого дедлайна, то ваш максимум — 5.22 балла.\n",
        "\n",
        "### Оценивание и штрафы\n",
        "\n",
        "Максимально допустимая оценка за работу — 10 баллов. Сдавать задание после указанного срока сдачи нельзя.\n",
        "\n",
        "Задание выполняется самостоятельно. «Похожие» решения считаются плагиатом и все задействованные студенты (в том числе те, у кого списали) не могут получить за него больше 0 баллов. Если вы нашли решение какого-то из заданий (или его часть) в открытом источнике, необходимо указать ссылку на этот источник в отдельном блоке в конце вашей работы (скорее всего вы будете не единственным, кто это нашел, поэтому чтобы исключить подозрение в плагиате, необходима ссылка на источник).\n",
        "\n",
        "Неэффективная реализация кода может негативно отразиться на оценке. Также оценка может быть снижена за плохо читаемый код и плохо оформленные графики. Все ответы должны сопровождаться кодом или комментариями о том, как они были получены.\n",
        "\n",
        "### О задании\n",
        "\n",
        "В этом задании вам предстоит познакомиться со сверточными сетями и их обучением для классификации изображений с использованием библиотеки PyTorch.\n"
      ]
    },
    {
      "cell_type": "code",
      "execution_count": 1,
      "metadata": {
        "id": "SaACifdX2QOo",
        "pycharm": {
          "name": "#%%\n"
        }
      },
      "outputs": [],
      "source": [
        "import torch\n",
        "import torch.nn as nn\n",
        "import torch.nn.functional as F\n",
        "import torch.optim as optim\n",
        "import torchvision\n",
        "import torchvision.transforms as transforms\n",
        "\n",
        "import matplotlib.pyplot as plt\n",
        "import numpy as np\n",
        "\n",
        "from sklearn.model_selection import train_test_split"
      ]
    },
    {
      "cell_type": "markdown",
      "metadata": {
        "id": "TIXaUYM-0JFl",
        "pycharm": {
          "name": "#%% md\n"
        }
      },
      "source": [
        "## 0. Загрузка данных\n",
        "\n",
        "Работать мы будем с набором данных [CIFAR10](https://www.cs.toronto.edu/~kriz/cifar.html). CIFAR10 представляет собой набор изображений 32х32 пикселя, разделенных на 10 классов.\n",
        "\n",
        "![title](https://pytorch.org/tutorials/_images/cifar10.png)\n",
        "\n",
        "\n"
      ]
    },
    {
      "cell_type": "markdown",
      "metadata": {
        "id": "g-0EEjl_10vB",
        "pycharm": {
          "name": "#%% md\n"
        }
      },
      "source": [
        "Набор данных уже определен в <code>torchvision.datasets</code>, так что возьмем его оттуда.\n",
        "\n"
      ]
    },
    {
      "cell_type": "code",
      "execution_count": 2,
      "metadata": {
        "id": "Cbwe92dT3aPZ",
        "pycharm": {
          "name": "#%%\n"
        }
      },
      "outputs": [],
      "source": [
        "def get_cifar10_data(batch_size, transform_train):\n",
        "    torch.manual_seed(0)\n",
        "    np.random.seed(0)\n",
        "\n",
        "    transform_test = transforms.Compose(\n",
        "        [transforms.ToTensor(),\n",
        "         # Переводим цвета пикселей в отрезок [-1, 1]\n",
        "         transforms.Normalize((0.5, 0.5, 0.5), (0.5, 0.5, 0.5))]\n",
        "    )\n",
        "\n",
        "    # Загружаем данные\n",
        "    trainvalset = torchvision.datasets.CIFAR10(root='./data', train=True,\n",
        "                                               download=True, transform=transform_train)\n",
        "    testset = torchvision.datasets.CIFAR10(root='./data', train=False,\n",
        "                                           download=True, transform=transform_test)\n",
        "\n",
        "    # В датасете определено разбиение только на train и test,\n",
        "    # так что валидацию дополнительно выделяем из обучающей выборки\n",
        "    train_idx, valid_idx = train_test_split(np.arange(len(trainvalset)), test_size=0.3,\n",
        "                                            shuffle=True, random_state=0)\n",
        "    trainset = torch.utils.data.Subset(trainvalset, train_idx)\n",
        "    valset = torch.utils.data.Subset(trainvalset, valid_idx)\n",
        "\n",
        "    train_loader = torch.utils.data.DataLoader(trainset, batch_size=batch_size,\n",
        "                                               shuffle=True, num_workers=2)\n",
        "    val_loader = torch.utils.data.DataLoader(valset, batch_size=batch_size,\n",
        "                                             shuffle=False, num_workers=2)\n",
        "    test_loader = torch.utils.data.DataLoader(testset, batch_size=batch_size,\n",
        "                                              shuffle=False, num_workers=2)\n",
        "\n",
        "    return train_loader, val_loader, test_loader\n"
      ]
    },
    {
      "cell_type": "code",
      "execution_count": 3,
      "metadata": {
        "id": "2G2rLnN5y6Jj",
        "pycharm": {
          "name": "#%%\n"
        },
        "colab": {
          "base_uri": "https://localhost:8080/"
        },
        "outputId": "5c5f5618-03fd-47a7-c799-75ee857e8350"
      },
      "outputs": [
        {
          "output_type": "stream",
          "name": "stdout",
          "text": [
            "Downloading https://www.cs.toronto.edu/~kriz/cifar-10-python.tar.gz to ./data/cifar-10-python.tar.gz\n"
          ]
        },
        {
          "output_type": "stream",
          "name": "stderr",
          "text": [
            "100%|██████████| 170M/170M [00:05<00:00, 30.4MB/s]\n"
          ]
        },
        {
          "output_type": "stream",
          "name": "stdout",
          "text": [
            "Extracting ./data/cifar-10-python.tar.gz to ./data\n",
            "Files already downloaded and verified\n"
          ]
        }
      ],
      "source": [
        "transform = transforms.Compose(\n",
        "        [transforms.ToTensor(),\n",
        "         transforms.Normalize((0.5, 0.5, 0.5), (0.5, 0.5, 0.5))]\n",
        ")\n",
        "\n",
        "train_loader, val_loader, test_loader = get_cifar10_data(batch_size=64,\n",
        "                                                         transform_train=transform)"
      ]
    },
    {
      "cell_type": "markdown",
      "metadata": {
        "id": "-82HWgXs77W1",
        "pycharm": {
          "name": "#%% md\n"
        }
      },
      "source": [
        "Посмотрим на изображения:"
      ]
    },
    {
      "cell_type": "code",
      "execution_count": 4,
      "metadata": {
        "id": "ACnwaC5iy6L2",
        "pycharm": {
          "name": "#%%\n"
        },
        "colab": {
          "base_uri": "https://localhost:8080/",
          "height": 210
        },
        "outputId": "0ddd26bd-3a01-4d67-8412-9254c71e26a0"
      },
      "outputs": [
        {
          "output_type": "display_data",
          "data": {
            "text/plain": [
              "<Figure size 640x480 with 1 Axes>"
            ],
            "image/png": "[encoded data removed]"
          },
          "metadata": {}
        },
        {
          "output_type": "stream",
          "name": "stdout",
          "text": [
            "ship frog horse horse\n"
          ]
        }
      ],
      "source": [
        "def imshow(img):\n",
        "    img = img / 2 + 0.5\n",
        "    npimg = img.numpy()\n",
        "    plt.imshow(np.transpose(npimg, (1, 2, 0)))\n",
        "    plt.show()\n",
        "\n",
        "\n",
        "dataiter = iter(train_loader)\n",
        "images, labels = next(dataiter)\n",
        "\n",
        "imshow(torchvision.utils.make_grid(images[:4]))\n",
        "\n",
        "classes = ('plane', 'car', 'bird', 'cat',\n",
        "           'deer', 'dog', 'frog', 'horse', 'ship', 'truck')\n",
        "print(*[classes[labels[i]] for i in range(4)])"
      ]
    },
    {
      "cell_type": "markdown",
      "metadata": {
        "id": "KFDilng29YZ_",
        "pycharm": {
          "name": "#%% md\n"
        }
      },
      "source": [
        "## 1. Задание сверточной сети (3 балла)"
      ]
    },
    {
      "cell_type": "markdown",
      "metadata": {
        "id": "OX7Ul8YbYdQR",
        "pycharm": {
          "name": "#%% md\n"
        }
      },
      "source": [
        "Теперь нам нужно задать сверточную нейронную сеть, которую мы будем обучать классифицировать изображения.\n",
        "\n",
        "Используем сеть, основанную на одном блоке архитектуры ResNet.\n",
        "\n",
        "<img src=\"https://i.ibb.co/2hg962h/basic-block.png\" width=\"500\"/>\n",
        "\n",
        "__Указания:__\n",
        "\n",
        "- Все сверточные слои должны иметь 32 выходных канала, а также не должны изменять ширину и высоту изображения.\n",
        "- Выход блока сократите до размерности 32х4х4, применив average pooling.\n",
        "- Для получения итоговых логитов, распрямите выход пулинга в вектор из 512 элементов, а затем пропустите его через линейный слой."
      ]
    },
    {
      "cell_type": "markdown",
      "metadata": {
        "id": "sbyIylT9O9Dr",
        "pycharm": {
          "name": "#%% md\n"
        }
      },
      "source": [
        "**Задание 1.1 (3 балла).**\n",
        "\n",
        "Определите архитектуру сети соответственно схеме и указаниям выше.\n",
        "\n",
        "Ключевые слова: <code>Conv2d</code>, <code>BatchNorm2d</code>, <code>AvgPool2d</code>."
      ]
    },
    {
      "cell_type": "code",
      "execution_count": 5,
      "metadata": {
        "id": "s9ml1QGKy6N9",
        "pycharm": {
          "name": "#%%\n"
        }
      },
      "outputs": [],
      "source": [
        "n_classes = 10\n",
        "\n",
        "class BasicBlockNet(nn.Module):\n",
        "    def __init__(self):\n",
        "        super().__init__()\n",
        "        self.conv1 = nn.Conv2d(in_channels=3, out_channels=32, kernel_size=3, padding=1)\n",
        "        self.bn1 = nn.BatchNorm2d(32)\n",
        "        self.conv2 = nn.Conv2d(in_channels=32, out_channels=32, kernel_size=3, padding=1)\n",
        "        self.bn2 = nn.BatchNorm2d(32)\n",
        "        self.residual_conv = nn.Conv2d(3, 32, kernel_size=1)\n",
        "        self.relu = nn.ReLU()\n",
        "        self.avg_pool = nn.AvgPool2d(kernel_size=8)\n",
        "        self.fc = nn.Linear(32 * 4 * 4, n_classes)\n",
        "\n",
        "    def forward(self, x):\n",
        "        residual = x\n",
        "        out = self.conv1(x)\n",
        "        out = self.bn1(out)\n",
        "        out = self.relu(out)\n",
        "        out = self.conv2(out)\n",
        "        out = self.bn2(out)\n",
        "        residual = self.residual_conv(residual)\n",
        "        out += residual\n",
        "        out = self.relu(out)\n",
        "        out = self.avg_pool(out)\n",
        "        out = out.view(out.size(0), -1)\n",
        "        out = self.fc(out)\n",
        "        return out"
      ]
    },
    {
      "cell_type": "code",
      "execution_count": 6,
      "metadata": {
        "id": "FI4BQg7Ky6Pw",
        "pycharm": {
          "name": "#%%\n"
        },
        "colab": {
          "base_uri": "https://localhost:8080/"
        },
        "outputId": "39849fc3-b558-4c00-dd5c-264dc5cec6d5"
      },
      "outputs": [
        {
          "output_type": "execute_result",
          "data": {
            "text/plain": [
              "BasicBlockNet(\n",
              "  (conv1): Conv2d(3, 32, kernel_size=(3, 3), stride=(1, 1), padding=(1, 1))\n",
              "  (bn1): BatchNorm2d(32, eps=1e-05, momentum=0.1, affine=True, track_running_stats=True)\n",
              "  (conv2): Conv2d(32, 32, kernel_size=(3, 3), stride=(1, 1), padding=(1, 1))\n",
              "  (bn2): BatchNorm2d(32, eps=1e-05, momentum=0.1, affine=True, track_running_stats=True)\n",
              "  (residual_conv): Conv2d(3, 32, kernel_size=(1, 1), stride=(1, 1))\n",
              "  (relu): ReLU()\n",
              "  (avg_pool): AvgPool2d(kernel_size=8, stride=8, padding=0)\n",
              "  (fc): Linear(in_features=512, out_features=10, bias=True)\n",
              ")"
            ]
          },
          "metadata": {},
          "execution_count": 6
        }
      ],
      "source": [
        "net = BasicBlockNet()\n",
        "net"
      ]
    },
    {
      "cell_type": "markdown",
      "metadata": {
        "id": "igPoGZEub8d3",
        "pycharm": {
          "name": "#%% md\n"
        }
      },
      "source": [
        "Проверим, что выход сети имеет корректную размерность:"
      ]
    },
    {
      "cell_type": "code",
      "execution_count": 7,
      "metadata": {
        "id": "cCIzFUpJ_Agw",
        "pycharm": {
          "name": "#%%\n"
        }
      },
      "outputs": [],
      "source": [
        "assert net(torch.zeros((10, 3, 32, 32))).shape == (10, 10)"
      ]
    },
    {
      "cell_type": "markdown",
      "metadata": {
        "id": "08osX622cDGz",
        "pycharm": {
          "name": "#%% md\n"
        }
      },
      "source": [
        "Чтобы проводить вычисления на GPU, в PyTorch необходимо руками перекладывать объекты, с которыми вы хотите проводить вычисления, на графический ускоритель. Это делается следующим образрм:"
      ]
    },
    {
      "cell_type": "code",
      "execution_count": 8,
      "metadata": {
        "id": "56hDOMCFcDZX",
        "pycharm": {
          "name": "#%%\n"
        },
        "colab": {
          "base_uri": "https://localhost:8080/"
        },
        "outputId": "eeaa258f-9325-47ee-af6c-d0fea4d8585d"
      },
      "outputs": [
        {
          "output_type": "stream",
          "name": "stdout",
          "text": [
            "cuda:0\n"
          ]
        }
      ],
      "source": [
        "device = torch.device('cuda:0' if torch.cuda.is_available() else 'cpu')\n",
        "print(device)"
      ]
    },
    {
      "cell_type": "code",
      "execution_count": 9,
      "metadata": {
        "id": "ohnDWbp0qbtC",
        "pycharm": {
          "name": "#%%\n"
        }
      },
      "outputs": [],
      "source": [
        "net = net.to(device)"
      ]
    },
    {
      "cell_type": "markdown",
      "metadata": {
        "id": "H_bOlTVUp5QF",
        "pycharm": {
          "name": "#%% md\n"
        }
      },
      "source": [
        "Подключение GPU в google.colab:\n",
        "\n",
        "**Среда выполнения** -> **Сменить среду выполнения** -> **Аппаратный ускоритель** -> **GPU**"
      ]
    },
    {
      "cell_type": "markdown",
      "metadata": {
        "id": "AGi6XX_7_Bgg",
        "pycharm": {
          "name": "#%% md\n"
        }
      },
      "source": [
        "## 2. Обучение и тестирование модели (3 балла)"
      ]
    },
    {
      "cell_type": "markdown",
      "metadata": {
        "id": "0agj_MQoO9Ds",
        "pycharm": {
          "name": "#%% md\n"
        }
      },
      "source": [
        "**Задание 2.1 (2 балла).** Переходим к обучению модели. Заполните пропуски в функциях <code>test</code> и <code>train_epoch</code>. В качестве функции потерь будем использовать [кросс-энтропию](https://pytorch.org/docs/stable/generated/torch.nn.functional.cross_entropy.html), а в качестве метрики качества accuracy."
      ]
    },
    {
      "cell_type": "code",
      "execution_count": 10,
      "metadata": {
        "id": "g8gsPPRIevDS",
        "pycharm": {
          "name": "#%%\n"
        }
      },
      "outputs": [],
      "source": [
        "def test(model, loader):\n",
        "    loss_log = []\n",
        "    acc_log = []\n",
        "    model.eval()\n",
        "\n",
        "    for data, target in loader:\n",
        "\n",
        "        data, target = data.to(device), target.to(device)\n",
        "        logits = model(data)\n",
        "        loss = F.cross_entropy(logits, target)\n",
        "        loss_log.append(loss.item())\n",
        "\n",
        "        preds = logits.argmax(dim=1)\n",
        "        correct = preds.eq(target)\n",
        "        acc = correct.float().mean()\n",
        "        acc_log.append(acc.item())\n",
        "\n",
        "    return np.mean(loss_log), np.mean(acc_log)\n",
        "\n",
        "def train_epoch(model, optimizer, train_loader):\n",
        "    loss_log = []\n",
        "    acc_log = []\n",
        "    model.train()\n",
        "\n",
        "    for data, target in train_loader:\n",
        "\n",
        "        data, target = data.to(device), target.to(device)\n",
        "\n",
        "        optimizer.zero_grad()\n",
        "\n",
        "        logits = model(data)\n",
        "        loss = F.cross_entropy(logits, target)\n",
        "        loss_log.append(loss.item())\n",
        "        loss.backward()\n",
        "        optimizer.step()\n",
        "\n",
        "        preds = logits.argmax(dim=1)\n",
        "        correct = preds.eq(target)\n",
        "        acc = correct.float().mean()\n",
        "        acc_log.append(acc.item())\n",
        "\n",
        "    return loss_log, acc_log\n",
        "\n",
        "def train(model, optimizer, n_epochs, train_loader, val_loader, scheduler=None):\n",
        "    train_loss_log, train_acc_log, val_loss_log, val_acc_log = [], [], [], []\n",
        "\n",
        "    for epoch in range(n_epochs):\n",
        "        train_loss, train_acc = train_epoch(model, optimizer, train_loader)\n",
        "        val_loss, val_acc = test(model, val_loader)\n",
        "\n",
        "        train_loss_log.extend(train_loss)\n",
        "        train_acc_log.extend(train_acc)\n",
        "\n",
        "        val_loss_log.append(val_loss)\n",
        "        val_acc_log.append(val_acc)\n",
        "\n",
        "        print(f\"Epoch {epoch}\")\n",
        "        print(f\" train loss: {np.mean(train_loss)}, train acc: {np.mean(train_acc)}\")\n",
        "        print(f\" val loss: {val_loss}, val acc: {val_acc}\\n\")\n",
        "\n",
        "        if scheduler is not None:\n",
        "            scheduler.step()\n",
        "\n",
        "    return train_loss_log, train_acc_log, val_loss_log, val_acc_log"
      ]
    },
    {
      "cell_type": "markdown",
      "metadata": {
        "id": "iSOqk_CAO9Dt",
        "pycharm": {
          "name": "#%% md\n"
        }
      },
      "source": [
        "Запустим обучение модели. В качестве оптимизатора будем использовать стохастический градиентный спуск, который является де-факто стандартом в задачах компьютерного зрения (наравне с <code>Adam</code>).\n",
        "\n",
        "__Замечание:__ Для достижения наилучшего качества в нашем случае потребуется обучать модель несколько сотен эпох. Однако в целях экономии вашего времени и сил, во всех экспериментах мы ограничимся 20 эпохами."
      ]
    },
    {
      "cell_type": "code",
      "execution_count": 11,
      "metadata": {
        "id": "MKZBGhuAgMDu",
        "scrolled": true,
        "pycharm": {
          "name": "#%%\n"
        },
        "colab": {
          "base_uri": "https://localhost:8080/"
        },
        "outputId": "173d9a68-fd7f-4731-9d54-33eeb2ec9461"
      },
      "outputs": [
        {
          "output_type": "stream",
          "name": "stdout",
          "text": [
            "Epoch 0\n",
            " train loss: 1.4683873994476835, train acc: 0.47768265215962635\n",
            " val loss: 1.223199504487058, val acc: 0.5640292553191489\n",
            "\n",
            "Epoch 1\n",
            " train loss: 1.1657399551524106, train acc: 0.592187092007841\n",
            " val loss: 1.127787499224886, val acc: 0.6107934397585848\n",
            "\n",
            "Epoch 2\n",
            " train loss: 1.053816074754028, train acc: 0.6336347611120458\n",
            " val loss: 1.062222764086216, val acc: 0.6299867021276596\n",
            "\n",
            "Epoch 3\n",
            " train loss: 0.9903613896648888, train acc: 0.6566254244861917\n",
            " val loss: 1.0770318130229382, val acc: 0.630407801587531\n",
            "\n",
            "Epoch 4\n",
            " train loss: 0.9501126410756294, train acc: 0.670059088597132\n",
            " val loss: 1.0236862494590435, val acc: 0.6431959220703612\n",
            "\n",
            "Epoch 5\n",
            " train loss: 0.9275370681525584, train acc: 0.6762005419792161\n",
            " val loss: 0.9649424005062022, val acc: 0.6677304965384463\n",
            "\n",
            "Epoch 6\n",
            " train loss: 0.9016296566077516, train acc: 0.6862880321699697\n",
            " val loss: 1.0521450930453362, val acc: 0.6432624114320633\n",
            "\n",
            "Epoch 7\n",
            " train loss: 0.8805694370862552, train acc: 0.6953471859804673\n",
            " val loss: 0.9734979378416183, val acc: 0.66850620584285\n",
            "\n",
            "Epoch 8\n",
            " train loss: 0.8632206032001558, train acc: 0.7001542505660049\n",
            " val loss: 0.9481623099205342, val acc: 0.667752659574468\n",
            "\n",
            "Epoch 9\n",
            " train loss: 0.8475098983679219, train acc: 0.7060386197440585\n",
            " val loss: 0.9255846840270022, val acc: 0.6823138297872341\n",
            "\n",
            "Epoch 10\n",
            " train loss: 0.839876734251514, train acc: 0.7078790154709894\n",
            " val loss: 0.9266427968410735, val acc: 0.6870567377577437\n",
            "\n",
            "Epoch 11\n",
            " train loss: 0.8281740578916434, train acc: 0.7113435296733375\n",
            " val loss: 0.8892223898400652, val acc: 0.6913563829787234\n",
            "\n",
            "Epoch 12\n",
            " train loss: 0.8197787131644254, train acc: 0.7139755811072355\n",
            " val loss: 0.8802429988029156, val acc: 0.6964760638297872\n",
            "\n",
            "Epoch 13\n",
            " train loss: 0.8087247323510416, train acc: 0.7172401411223891\n",
            " val loss: 0.9665794418213215, val acc: 0.6759751773895102\n",
            "\n",
            "Epoch 14\n",
            " train loss: 0.798520131727895, train acc: 0.7204067642771566\n",
            " val loss: 0.8859837037451723, val acc: 0.6960992909492331\n",
            "\n",
            "Epoch 15\n",
            " train loss: 0.7894818899400491, train acc: 0.7247200640943412\n",
            " val loss: 0.8770198460589064, val acc: 0.7007535462683819\n",
            "\n",
            "Epoch 16\n",
            " train loss: 0.7864882365768091, train acc: 0.726205438865822\n",
            " val loss: 0.8827556102833849, val acc: 0.6990913122258288\n",
            "\n",
            "Epoch 17\n",
            " train loss: 0.769485638716975, train acc: 0.7312777488061671\n",
            " val loss: 0.895410386552202, val acc: 0.6943262412192973\n",
            "\n",
            "Epoch 18\n",
            " train loss: 0.7636940882999239, train acc: 0.7345382280279993\n",
            " val loss: 0.9216031706079524, val acc: 0.689561170212766\n",
            "\n",
            "Epoch 19\n",
            " train loss: 0.7603776148729829, train acc: 0.7312328611692955\n",
            " val loss: 0.8713757512417245, val acc: 0.7008200356300841\n",
            "\n"
          ]
        }
      ],
      "source": [
        "optimizer = optim.SGD(net.parameters(), lr=0.1, momentum=0.9)\n",
        "train_loss_log, train_acc_log, val_loss_log, val_acc_log = train(net, optimizer, 20, train_loader, val_loader)"
      ]
    },
    {
      "cell_type": "markdown",
      "metadata": {
        "id": "gUb1jQW8O9Dt",
        "pycharm": {
          "name": "#%% md\n"
        }
      },
      "source": [
        "Посчитайте точность на тестовой выборке:"
      ]
    },
    {
      "cell_type": "code",
      "execution_count": 12,
      "metadata": {
        "id": "Jyuc55B9_Amc",
        "pycharm": {
          "name": "#%%\n"
        },
        "colab": {
          "base_uri": "https://localhost:8080/"
        },
        "outputId": "2c494100-293e-4148-f70e-69f119857e3a"
      },
      "outputs": [
        {
          "output_type": "stream",
          "name": "stdout",
          "text": [
            "Потери на тестовой выборке: 0.8866; Точность на тестовой выборке: 0.6979\n"
          ]
        }
      ],
      "source": [
        "test_loss, test_acc = test(net, test_loader)\n",
        "print(f\"Потери на тестовой выборке: {test_loss:.4f}; Точность на тестовой выборке: {test_acc:.4f}\")"
      ]
    },
    {
      "cell_type": "markdown",
      "metadata": {
        "id": "zM38Q9fwO9Dt",
        "pycharm": {
          "name": "#%% md\n"
        }
      },
      "source": [
        "Если вы все сделали правильно, у вас должна была получиться точность $\\ge 67\\%$."
      ]
    },
    {
      "cell_type": "markdown",
      "metadata": {
        "id": "DHFNSKcoO9Dt",
        "pycharm": {
          "name": "#%% md\n"
        }
      },
      "source": [
        "**Задание 2.2 (1 балл).** Постройте графики зависимости функции потерь и точности классификации от номера шага оптимизатора. На каждом графике расположите данные и для обучающей и для валидационной выборки, итого у вас должно получиться два графика. Обратите внимание, что на обучающей выборке эти данные считаются по каждому батчу, на валидационной же они считаются по всей выборке раз в эпоху."
      ]
    },
    {
      "cell_type": "code",
      "execution_count": 13,
      "metadata": {
        "id": "LzIP0tGLO9Dt",
        "pycharm": {
          "name": "#%%\n"
        },
        "colab": {
          "base_uri": "https://localhost:8080/",
          "height": 1000
        },
        "outputId": "aeefa132-ba0c-40bb-a502-e153a45735c5"
      },
      "outputs": [
        {
          "output_type": "display_data",
          "data": {
            "text/plain": [
              "<Figure size 1200x600 with 1 Axes>"
            ],
            "image/png": "[encoded data removed]"
          },
          "metadata": {}
        },
        {
          "output_type": "display_data",
          "data": {
            "text/plain": [
              "<Figure size 1200x600 with 1 Axes>"
            ],
            "image/png": "[encoded data removed]"
          },
          "metadata": {}
        }
      ],
      "source": [
        "plt.figure(figsize=(12, 6))\n",
        "plt.plot(train_loss_log, label=\"Потери на обучении (по батчам)\")\n",
        "val_steps = np.linspace(0, len(train_loss_log), len(val_loss_log))\n",
        "plt.plot(val_steps, val_loss_log, label=\"Потери на валидации (по эпохам)\")\n",
        "plt.title(\"Функция потерь в зависимости от шага обучения\")\n",
        "plt.xlabel(\"Шаги обучения\")\n",
        "plt.ylabel(\"Потери\")\n",
        "plt.legend()\n",
        "plt.grid()\n",
        "plt.show()\n",
        "\n",
        "plt.figure(figsize=(12, 6))\n",
        "plt.plot(train_acc_log, label=\"Точность на обучении (по батчам)\")\n",
        "plt.plot(val_steps, val_acc_log, label=\"Точность на валидации (по эпохам)\")\n",
        "plt.title(\"Точность в зависимости от шага обучения\")\n",
        "plt.xlabel(\"Шаги обучения\")\n",
        "plt.ylabel(\"Точность\")\n",
        "plt.legend()\n",
        "plt.grid()\n",
        "plt.show()"
      ]
    },
    {
      "cell_type": "markdown",
      "metadata": {
        "id": "_ttOJPj-O9Dt",
        "pycharm": {
          "name": "#%% md\n"
        }
      },
      "source": [
        "## 3. Расписание длины шага (2 балла)"
      ]
    },
    {
      "cell_type": "markdown",
      "metadata": {
        "id": "qiz3JstuO9Dt",
        "pycharm": {
          "name": "#%% md\n"
        }
      },
      "source": [
        "С курса \"Машинное обучение 1\" вы уже должны знать, что сходимость стохастического градиентного спуска мы можем теоретически гарантировать только если будем определенным образом со временем уменьшать длину шага. На практике при обучении нейронных сетей такая техника оказывается очень полезной, однако теоретически обоснованными способами уменьшения длины шага фантазия не ограничивается.\n",
        "\n",
        "Одним из простейших способов является кусочно постоянная функция: на нескольких фиксированных эпохах уменьшаем длину шага в константу раз."
      ]
    },
    {
      "cell_type": "code",
      "execution_count": 14,
      "metadata": {
        "id": "V2Z0OT3nO9Du",
        "pycharm": {
          "name": "#%%\n"
        },
        "colab": {
          "base_uri": "https://localhost:8080/"
        },
        "outputId": "9412e2c1-7572-4858-c07f-bd49076bcb60"
      },
      "outputs": [
        {
          "output_type": "stream",
          "name": "stdout",
          "text": [
            "Epoch 0\n",
            " train loss: 1.4643245682637913, train acc: 0.4774092453271423\n",
            " val loss: 1.2631451728496146, val acc: 0.5547429079705096\n",
            "\n",
            "Epoch 1\n",
            " train loss: 1.151320999021722, train acc: 0.5967615566044446\n",
            " val loss: 1.1271137379585427, val acc: 0.6087765957446809\n",
            "\n",
            "Epoch 2\n",
            " train loss: 1.0499829452695968, train acc: 0.6347487921906564\n",
            " val loss: 1.1802208096423048, val acc: 0.5955673759287976\n",
            "\n",
            "Epoch 3\n",
            " train loss: 0.9903484145945561, train acc: 0.6519815879286535\n",
            " val loss: 0.9923605837720506, val acc: 0.6607047872340426\n",
            "\n",
            "Epoch 4\n",
            " train loss: 0.9513271615535729, train acc: 0.6682309350322326\n",
            " val loss: 1.0114871945786983, val acc: 0.6435283688788719\n",
            "\n",
            "Epoch 5\n",
            " train loss: 0.9157297981722481, train acc: 0.6807668452071097\n",
            " val loss: 0.9402595421101184, val acc: 0.678125\n",
            "\n",
            "Epoch 6\n",
            " train loss: 0.8985108064668053, train acc: 0.6865410355806787\n",
            " val loss: 0.9398999414545425, val acc: 0.676817376055616\n",
            "\n",
            "Epoch 7\n",
            " train loss: 0.8811837126938473, train acc: 0.6927845063985375\n",
            " val loss: 0.8983711747412986, val acc: 0.6904476952045522\n",
            "\n",
            "Epoch 8\n",
            " train loss: 0.8595457833253487, train acc: 0.7001746539877799\n",
            " val loss: 0.9012676832523752, val acc: 0.6899601063829788\n",
            "\n",
            "Epoch 9\n",
            " train loss: 0.849924522572941, train acc: 0.7059814899451554\n",
            " val loss: 0.8809155750781932, val acc: 0.7005984042553192\n",
            "\n",
            "Epoch 10\n",
            " train loss: 0.7405580036491973, train acc: 0.7440748237604633\n",
            " val loss: 0.8278160916998031, val acc: 0.718062943346957\n",
            "\n",
            "Epoch 11\n",
            " train loss: 0.7231164043956526, train acc: 0.7496041722009997\n",
            " val loss: 0.8251359751883973, val acc: 0.7171099292471054\n",
            "\n",
            "Epoch 12\n",
            " train loss: 0.7187538954958838, train acc: 0.7519056868945441\n",
            " val loss: 0.8243627502563152, val acc: 0.7181959220703612\n",
            "\n",
            "Epoch 13\n",
            " train loss: 0.7149062223691609, train acc: 0.7517424589755113\n",
            " val loss: 0.8217257545349446, val acc: 0.7171764186088075\n",
            "\n",
            "Epoch 14\n",
            " train loss: 0.7093501051230666, train acc: 0.7535012405794761\n",
            " val loss: 0.8200077607276591, val acc: 0.7210549646235527\n",
            "\n",
            "Epoch 15\n",
            " train loss: 0.6971046774762204, train acc: 0.758744940025497\n",
            " val loss: 0.8127560455748375, val acc: 0.7214982271194458\n",
            "\n",
            "Epoch 16\n",
            " train loss: 0.6946725028088585, train acc: 0.7604057848780421\n",
            " val loss: 0.8114983984764587, val acc: 0.7222960994598714\n",
            "\n",
            "Epoch 17\n",
            " train loss: 0.6933320715505854, train acc: 0.7597610342437214\n",
            " val loss: 0.8110606612043177, val acc: 0.7222296100981692\n",
            "\n",
            "Epoch 18\n",
            " train loss: 0.6932319800422222, train acc: 0.7607893706239773\n",
            " val loss: 0.8126995337770341, val acc: 0.7210992909492331\n",
            "\n",
            "Epoch 19\n",
            " train loss: 0.6920739055442636, train acc: 0.7608424197385254\n",
            " val loss: 0.8114984527547309, val acc: 0.7212987590343394\n",
            "\n"
          ]
        }
      ],
      "source": [
        "net = BasicBlockNet().to(device)\n",
        "optimizer = optim.SGD(net.parameters(), lr=0.1, momentum=0.9)\n",
        "scheduler = optim.lr_scheduler.MultiStepLR(optimizer, milestones=[10, 15], gamma=0.1)\n",
        "tr_loss_log, tr_acc_log, val_loss_log, val_acc_log = train(net, optimizer, 20, train_loader, val_loader, scheduler)"
      ]
    },
    {
      "cell_type": "markdown",
      "metadata": {
        "id": "5Xc76KvzO9Du",
        "pycharm": {
          "name": "#%% md\n"
        }
      },
      "source": [
        "Посчитайте точность на тестовой выборке:"
      ]
    },
    {
      "cell_type": "code",
      "execution_count": 15,
      "metadata": {
        "id": "1AjiYhKqO9Du",
        "pycharm": {
          "name": "#%%\n"
        },
        "colab": {
          "base_uri": "https://localhost:8080/"
        },
        "outputId": "3143baf9-7b81-499f-a6fd-b73252965f58"
      },
      "outputs": [
        {
          "output_type": "stream",
          "name": "stdout",
          "text": [
            "Потери на тестовой выборке: 0.8280; Точность на тестовой выборке: 0.7157\n"
          ]
        }
      ],
      "source": [
        "test_loss, test_acc = test(net, test_loader)\n",
        "print(f\"Потери на тестовой выборке: {test_loss:.4f}; Точность на тестовой выборке: {test_acc:.4f}\")"
      ]
    },
    {
      "cell_type": "markdown",
      "metadata": {
        "id": "yE0dgLYrO9Du",
        "pycharm": {
          "name": "#%% md\n"
        }
      },
      "source": [
        "**Задание 3.0 (0.5 баллов).** Здесь может возникнуть вопрос: а что будет, если мы не будем уменьшать длину шага в процессе обучения, а сразу возьмем констатную, равную значению нашей кусочно-постоянной функции на последних эпохах, то есть $0.001$ в нашем случае. Запустите обучение и проверьте, что в таком случае мы получим худшее качество на тестовой выборке."
      ]
    },
    {
      "cell_type": "code",
      "execution_count": 16,
      "metadata": {
        "id": "qZ2iB-LBO9Du",
        "pycharm": {
          "name": "#%%\n"
        },
        "colab": {
          "base_uri": "https://localhost:8080/"
        },
        "outputId": "3cea5c9d-4606-48fc-c4c9-2c1443b5b58b"
      },
      "outputs": [
        {
          "output_type": "stream",
          "name": "stdout",
          "text": [
            "Epoch 0\n",
            " train loss: 1.8587543495830279, train acc: 0.3467778793418647\n",
            " val loss: 1.6385141925608857, val acc: 0.4319148936170213\n",
            "\n",
            "Epoch 1\n",
            " train loss: 1.5725993846408628, train acc: 0.44757932882204354\n",
            " val loss: 1.4885302051584772, val acc: 0.47808067380113806\n",
            "\n",
            "Epoch 2\n",
            " train loss: 1.444934005275287, train acc: 0.49235276842466\n",
            " val loss: 1.4080623926000393, val acc: 0.5049645390916377\n",
            "\n",
            "Epoch 3\n",
            " train loss: 1.3607828072263728, train acc: 0.5226029969438556\n",
            " val loss: 1.314423708712801, val acc: 0.5400709220703612\n",
            "\n",
            "Epoch 4\n",
            " train loss: 1.2996203904831867, train acc: 0.5454263516056472\n",
            " val loss: 1.257674932987132, val acc: 0.564516844013904\n",
            "\n",
            "Epoch 5\n",
            " train loss: 1.2457012950393356, train acc: 0.5637038065702867\n",
            " val loss: 1.2151478397085311, val acc: 0.5784352837724889\n",
            "\n",
            "Epoch 6\n",
            " train loss: 1.204713921878194, train acc: 0.5813569144313471\n",
            " val loss: 1.202539526655319, val acc: 0.5808289007937655\n",
            "\n",
            "Epoch 7\n",
            " train loss: 1.1603310499374349, train acc: 0.5959576587354461\n",
            " val loss: 1.1608192131874409, val acc: 0.5916001773895101\n",
            "\n",
            "Epoch 8\n",
            " train loss: 1.1254946391150982, train acc: 0.6107257117518995\n",
            " val loss: 1.118722622698926, val acc: 0.610859929120287\n",
            "\n",
            "Epoch 9\n",
            " train loss: 1.0902339612326195, train acc: 0.6218088927391024\n",
            " val loss: 1.0714272970848895, val acc: 0.6231826241980207\n",
            "\n",
            "Epoch 10\n",
            " train loss: 1.0650422451047183, train acc: 0.6313862954240831\n",
            " val loss: 1.0566105566126236, val acc: 0.6303856382978723\n",
            "\n",
            "Epoch 11\n",
            " train loss: 1.0379871370805465, train acc: 0.6366993667220721\n",
            " val loss: 1.038758750672036, val acc: 0.6354166667512122\n",
            "\n",
            "Epoch 12\n",
            " train loss: 1.02112623902082, train acc: 0.6461543484405364\n",
            " val loss: 1.0037566573061842, val acc: 0.6508865249917862\n",
            "\n",
            "Epoch 13\n",
            " train loss: 0.9998557778991337, train acc: 0.6540178571584238\n",
            " val loss: 1.0347437214344106, val acc: 0.6374113476022761\n",
            "\n",
            "Epoch 14\n",
            " train loss: 0.9860487104116018, train acc: 0.657306901388674\n",
            " val loss: 0.9836979165990302, val acc: 0.6572251773895101\n",
            "\n",
            "Epoch 15\n",
            " train loss: 0.9701000469476257, train acc: 0.6636727931730491\n",
            " val loss: 0.9884875962074767, val acc: 0.6564494680851064\n",
            "\n",
            "Epoch 16\n",
            " train loss: 0.9596819171521955, train acc: 0.6684798577585865\n",
            " val loss: 0.976918854865622, val acc: 0.661192376055616\n",
            "\n",
            "Epoch 17\n",
            " train loss: 0.9534603058747008, train acc: 0.6693572081639082\n",
            " val loss: 0.9576598073573823, val acc: 0.669126773134191\n",
            "\n",
            "Epoch 18\n",
            " train loss: 0.9367326437010408, train acc: 0.6780490990748571\n",
            " val loss: 0.9602662089023184, val acc: 0.6655806739279564\n",
            "\n",
            "Epoch 19\n",
            " train loss: 0.9318452293301849, train acc: 0.6779021937842779\n",
            " val loss: 0.9351047990169931, val acc: 0.6761524824385947\n",
            "\n"
          ]
        }
      ],
      "source": [
        "net = BasicBlockNet().to(device)\n",
        "\n",
        "optimizer = optim.SGD(net.parameters(), lr=0.001, momentum=0.9)\n",
        "\n",
        "tr_loss_log, tr_acc_log, val_loss_log, val_acc_log = train(\n",
        "    net, optimizer, n_epochs=20, train_loader=train_loader, val_loader=val_loader\n",
        ")"
      ]
    },
    {
      "cell_type": "code",
      "source": [
        "test_loss, test_acc = test(net, test_loader)\n",
        "print(f\"Потери на тестовой выборке: {test_loss:.4f}; Точность на тестовой выборке: {test_acc:.4f}\")"
      ],
      "metadata": {
        "colab": {
          "base_uri": "https://localhost:8080/"
        },
        "id": "zK2CEVb9f_0D",
        "outputId": "0def6b94-b5d5-4b86-b599-edc8a44d6f6b"
      },
      "execution_count": 17,
      "outputs": [
        {
          "output_type": "stream",
          "name": "stdout",
          "text": [
            "Потери на тестовой выборке: 0.9371; Точность на тестовой выборке: 0.6758\n"
          ]
        }
      ]
    },
    {
      "cell_type": "markdown",
      "metadata": {
        "id": "xVotU378O9Du",
        "pycharm": {
          "name": "#%% md\n"
        }
      },
      "source": [
        "**Задание 3.1 (1.5 балла).** Изучите, какие еще способы уменьшения длины шага представлены в <code>torch.optim.lr_scheduler</code>. Выберите несколько из них, объясните, как они устроены, и обучите модель с ними. Удалось ли добиться улучшения качества на тестовой выборке?"
      ]
    },
    {
      "cell_type": "markdown",
      "source": [
        "###ExponentialLR\n",
        "\n",
        "Как устроено:\n",
        "\n",
        "ExponentialLR уменьшает длину шага экспоненциально. На каждой эпохе длина шага уменьшается по формуле:\n",
        "$$\n",
        "\\text{lr}_n = \\text{lr}_0 \\times \\gamma^n\n",
        "$$\n",
        "Где:\n",
        "\n",
        "$\\text{lr}_0$ — начальная длина шага.\n",
        "$\\gamma$ — коэффициент уменьшения (от 0 до 1).\n",
        "\n",
        "Используем начальную длину шага 0.1 и $\\gamma = 0.9$."
      ],
      "metadata": {
        "id": "Q8GvSIz2vkrI"
      }
    },
    {
      "cell_type": "code",
      "execution_count": 18,
      "metadata": {
        "id": "nkGlzocOO9Du",
        "pycharm": {
          "name": "#%%\n"
        },
        "colab": {
          "base_uri": "https://localhost:8080/"
        },
        "outputId": "eceaf4b2-d5be-4f91-8264-9be63d0b577e"
      },
      "outputs": [
        {
          "output_type": "stream",
          "name": "stdout",
          "text": [
            "Epoch 0\n",
            " train loss: 1.4725472517379676, train acc: 0.4743487202925046\n",
            " val loss: 1.3308407537480618, val acc: 0.544813829787234\n",
            "\n",
            "Epoch 1\n",
            " train loss: 1.141788633257641, train acc: 0.6031886589810442\n",
            " val loss: 1.046374925907622, val acc: 0.6337987590343395\n",
            "\n",
            "Epoch 2\n",
            " train loss: 1.0279548972354728, train acc: 0.6405066597178388\n",
            " val loss: 1.0414864294072415, val acc: 0.6375443263256804\n",
            "\n",
            "Epoch 3\n",
            " train loss: 0.9591818475854026, train acc: 0.6656886589810442\n",
            " val loss: 1.0155341376649571, val acc: 0.6412012412192973\n",
            "\n",
            "Epoch 4\n",
            " train loss: 0.915296453008704, train acc: 0.6814646448470121\n",
            " val loss: 0.9776285782773444, val acc: 0.6572916667512123\n",
            "\n",
            "Epoch 5\n",
            " train loss: 0.8848377113695336, train acc: 0.6902299882942842\n",
            " val loss: 0.9458059011621678, val acc: 0.6766400710065315\n",
            "\n",
            "Epoch 6\n",
            " train loss: 0.861008664262796, train acc: 0.70263939681829\n",
            " val loss: 0.9007985300206124, val acc: 0.6876994680851064\n",
            "\n",
            "Epoch 7\n",
            " train loss: 0.8365577151505124, train acc: 0.7088338992059557\n",
            " val loss: 0.8848507234390746, val acc: 0.6943040781832756\n",
            "\n",
            "Epoch 8\n",
            " train loss: 0.8175107557769231, train acc: 0.7155017629401993\n",
            " val loss: 0.8718712329864502, val acc: 0.6990691489361702\n",
            "\n",
            "Epoch 9\n",
            " train loss: 0.8012586634272413, train acc: 0.7202027291876743\n",
            " val loss: 0.8670240277939655, val acc: 0.6992021276595745\n",
            "\n",
            "Epoch 10\n",
            " train loss: 0.7823110485970429, train acc: 0.7276826521596264\n",
            " val loss: 0.8707538027712639, val acc: 0.7017065603682335\n",
            "\n",
            "Epoch 11\n",
            " train loss: 0.768107759560266, train acc: 0.7350197506343207\n",
            " val loss: 0.8479752345288053, val acc: 0.7084884752618505\n",
            "\n",
            "Epoch 12\n",
            " train loss: 0.7559354752574586, train acc: 0.7370152129115745\n",
            " val loss: 0.835647371221096, val acc: 0.7153368795171697\n",
            "\n",
            "Epoch 13\n",
            " train loss: 0.7452590069452631, train acc: 0.7420752807988545\n",
            " val loss: 0.8583184886485973, val acc: 0.707535461161999\n",
            "\n",
            "Epoch 14\n",
            " train loss: 0.7342759323948262, train acc: 0.7470700575185214\n",
            " val loss: 0.8210089745673728, val acc: 0.7216090425531915\n",
            "\n",
            "Epoch 15\n",
            " train loss: 0.7250563088784052, train acc: 0.7488941303990658\n",
            " val loss: 0.8432580875589493, val acc: 0.7149379433469569\n",
            "\n",
            "Epoch 16\n",
            " train loss: 0.7200727828350973, train acc: 0.7483065095636483\n",
            " val loss: 0.8197064398451054, val acc: 0.7215868795171697\n",
            "\n",
            "Epoch 17\n",
            " train loss: 0.7104797088685811, train acc: 0.7532278337469921\n",
            " val loss: 0.8245246713465832, val acc: 0.7171542553191489\n",
            "\n",
            "Epoch 18\n",
            " train loss: 0.7010534675945094, train acc: 0.7554844608036648\n",
            " val loss: 0.8157562569100806, val acc: 0.7206781914893617\n",
            "\n",
            "Epoch 19\n",
            " train loss: 0.6951877517826597, train acc: 0.7597283886599149\n",
            " val loss: 0.812622917078911, val acc: 0.7248226952045522\n",
            "\n"
          ]
        }
      ],
      "source": [
        "net = BasicBlockNet().to(device)\n",
        "optimizer = optim.SGD(net.parameters(), lr=0.1, momentum=0.9)\n",
        "scheduler = optim.lr_scheduler.ExponentialLR(optimizer, gamma=0.9)\n",
        "\n",
        "tr_loss_log, tr_acc_log, val_loss_log, val_acc_log = train(\n",
        "    net, optimizer, n_epochs=20, train_loader=train_loader, val_loader=val_loader, scheduler=scheduler\n",
        ")"
      ]
    },
    {
      "cell_type": "code",
      "source": [
        "test_loss, test_acc = test(net, test_loader)\n",
        "print(f\"Потери на тестовой выборке: {test_loss:.4f}; Точность на тестовой выборке: {test_acc:.4%}\")"
      ],
      "metadata": {
        "colab": {
          "base_uri": "https://localhost:8080/"
        },
        "id": "3lETNrFNybHM",
        "outputId": "67f36303-2ee1-47e2-916c-6bbba0d594fc"
      },
      "execution_count": 19,
      "outputs": [
        {
          "output_type": "stream",
          "name": "stdout",
          "text": [
            "Потери на тестовой выборке: 0.8316; Точность на тестовой выборке: 70.9793%\n"
          ]
        }
      ]
    },
    {
      "cell_type": "markdown",
      "source": [
        "\n",
        "###CosineAnnealingLR\n",
        "\n",
        "Как устроено:\n",
        "\n",
        "CosineAnnealingLR изменяет длину шага по косинусоидальному закону, постепенно уменьшая её от начального значения до минимального ($\\eta_{\\text{min}}$) за указанное число эпох ($T_{\\text{max}}$).\n",
        "\n",
        "Формула длины шага:\n",
        "$$\n",
        "\\text{lr}_t = \\eta_{\\text{min}} + \\frac{1}{2} (\\text{lr}_0 - \\eta_{\\text{min}}) \\left(1 + \\cos\\left(\\frac{t}{T_{\\text{max}}} \\pi\\right)\\right)\n",
        "$$\n",
        "\n",
        "Используем начальную длину шага 0.1, $T_{\\text{max}} = 20$ (все эпохи), $\\eta_{\\text{min}} = 0$."
      ],
      "metadata": {
        "id": "u03NUL_2xSAV"
      }
    },
    {
      "cell_type": "code",
      "source": [
        "net = BasicBlockNet().to(device)\n",
        "optimizer = optim.SGD(net.parameters(), lr=0.1, momentum=0.9)\n",
        "scheduler = optim.lr_scheduler.CosineAnnealingLR(optimizer, T_max=20, eta_min=0)\n",
        "\n",
        "tr_loss_log, tr_acc_log, val_loss_log, val_acc_log = train(\n",
        "    net, optimizer, n_epochs=20, train_loader=train_loader, val_loader=val_loader, scheduler=scheduler\n",
        ")"
      ],
      "metadata": {
        "colab": {
          "base_uri": "https://localhost:8080/"
        },
        "id": "Z4p5MY8OxaWW",
        "outputId": "b7f97cc6-859c-48e1-ca7e-2ce540cabb57"
      },
      "execution_count": 20,
      "outputs": [
        {
          "output_type": "stream",
          "name": "stdout",
          "text": [
            "Epoch 0\n",
            " train loss: 1.5024993725842923, train acc: 0.460800796583758\n",
            " val loss: 1.316953635723033, val acc: 0.5376773050490846\n",
            "\n",
            "Epoch 1\n",
            " train loss: 1.2207306546092687, train acc: 0.5713755223607232\n",
            " val loss: 1.1260887419923824, val acc: 0.6056737589075211\n",
            "\n",
            "Epoch 2\n",
            " train loss: 1.1001925521838383, train acc: 0.6166876142595978\n",
            " val loss: 1.0549705079261293, val acc: 0.6315824468085106\n",
            "\n",
            "Epoch 3\n",
            " train loss: 1.0211157530709638, train acc: 0.6443629211437986\n",
            " val loss: 1.0655584898400814, val acc: 0.6336436170212766\n",
            "\n",
            "Epoch 4\n",
            " train loss: 0.9754287632117542, train acc: 0.6632157547818242\n",
            " val loss: 0.9635731260827247, val acc: 0.6653147164811479\n",
            "\n",
            "Epoch 5\n",
            " train loss: 0.9347882575919031, train acc: 0.675584356244347\n",
            " val loss: 0.9568027298501197, val acc: 0.664937943346957\n",
            "\n",
            "Epoch 6\n",
            " train loss: 0.9032120420793293, train acc: 0.6898790481321555\n",
            " val loss: 0.9982580380236848, val acc: 0.6599512412192974\n",
            "\n",
            "Epoch 7\n",
            " train loss: 0.8789657955849628, train acc: 0.695951129553305\n",
            " val loss: 0.8952203387909747, val acc: 0.6883643617021277\n",
            "\n",
            "Epoch 8\n",
            " train loss: 0.8606716277830344, train acc: 0.7007173870773594\n",
            " val loss: 0.9439789680724449, val acc: 0.6754210994598714\n",
            "\n",
            "Epoch 9\n",
            " train loss: 0.8349963611288088, train acc: 0.7104906633741459\n",
            " val loss: 0.9280084072275364, val acc: 0.6827127659574468\n",
            "\n",
            "Epoch 10\n",
            " train loss: 0.8136058719981959, train acc: 0.7188765017598377\n",
            " val loss: 0.878637694044316, val acc: 0.7003546100981692\n",
            "\n",
            "Epoch 11\n",
            " train loss: 0.7963295443293381, train acc: 0.7270991121175302\n",
            " val loss: 0.8824372802643066, val acc: 0.6988696808510638\n",
            "\n",
            "Epoch 12\n",
            " train loss: 0.7752141584208069, train acc: 0.7309349700127484\n",
            " val loss: 0.8741495061427988, val acc: 0.700531914893617\n",
            "\n",
            "Epoch 13\n",
            " train loss: 0.7572900681761544, train acc: 0.7403736288848263\n",
            " val loss: 0.844249305699734, val acc: 0.7102615249917862\n",
            "\n",
            "Epoch 14\n",
            " train loss: 0.7409854620095798, train acc: 0.7438789501486575\n",
            " val loss: 0.8539611930542804, val acc: 0.7082668441407224\n",
            "\n",
            "Epoch 15\n",
            " train loss: 0.7282326858919761, train acc: 0.7505019261370629\n",
            " val loss: 0.8315683306531704, val acc: 0.7178634752618506\n",
            "\n",
            "Epoch 16\n",
            " train loss: 0.7149741384294395, train acc: 0.7537705668365715\n",
            " val loss: 0.8278046492566453, val acc: 0.7181515957446809\n",
            "\n",
            "Epoch 17\n",
            " train loss: 0.7037005858185958, train acc: 0.7562557130888568\n",
            " val loss: 0.8265387273849325, val acc: 0.7196365249917862\n",
            "\n",
            "Epoch 18\n",
            " train loss: 0.6956752073394316, train acc: 0.7612341669621372\n",
            " val loss: 0.8231055455004915, val acc: 0.7204787234042553\n",
            "\n",
            "Epoch 19\n",
            " train loss: 0.6913090891986268, train acc: 0.761997257878619\n",
            " val loss: 0.8194258541502851, val acc: 0.722406914893617\n",
            "\n"
          ]
        }
      ]
    },
    {
      "cell_type": "code",
      "source": [
        "test_loss, test_acc = test(net, test_loader)\n",
        "print(f\"Потери на тестовой выборке: {test_loss:.4f}; Точность на тестовой выборке: {test_acc:.4%}\")"
      ],
      "metadata": {
        "colab": {
          "base_uri": "https://localhost:8080/"
        },
        "id": "1rgWJsY3yZzt",
        "outputId": "3871cfa5-ed7f-4c38-ef94-ae5656537c24"
      },
      "execution_count": 21,
      "outputs": [
        {
          "output_type": "stream",
          "name": "stdout",
          "text": [
            "Потери на тестовой выборке: 0.8344; Точность на тестовой выборке: 71.1982%\n"
          ]
        }
      ]
    },
    {
      "cell_type": "markdown",
      "source": [
        "###StepLR\n",
        "\n",
        "Как работает\n",
        "\n",
        "StepLR уменьшает длину шага на заданный коэффициент $\\gamma$ каждые $ \\text{step_size} $ эпох. Это позволяет периодически снижать скорость обучения, чтобы модель лучше сходилась.\n",
        "\n",
        "Формула\n",
        "\n",
        "$$\n",
        "\\text{lr}_t = \\text{lr}_0 \\times \\gamma^{\\lfloor t / \\text{step_size} \\rfloor}\n",
        "$$\n",
        "\n",
        "\n",
        "$\\text{lr}_0$ — начальная длина шага.\n",
        "$\\gamma$ — коэффициент уменьшения длины шага (например, 0.1).\n",
        "$\\text{step_size}$ — количество эпох между уменьшением длины шага.\n",
        "\n",
        "Используем начальную длину шага $\\text{lr}_0 = 0.1$, $\\gamma = 0.1$, и уменьшаем длину шага каждые 5 эпох $(\\text{step_size} = 5$)."
      ],
      "metadata": {
        "id": "Tb1i6cLFxZWt"
      }
    },
    {
      "cell_type": "code",
      "source": [
        "net = BasicBlockNet().to(device)\n",
        "optimizer = optim.SGD(net.parameters(), lr=0.1, momentum=0.9)\n",
        "scheduler = optim.lr_scheduler.StepLR(optimizer, step_size=5, gamma=0.1)\n",
        "\n",
        "tr_loss_log, tr_acc_log, val_loss_log, val_acc_log = train(\n",
        "    net, optimizer, n_epochs=20, train_loader=train_loader, val_loader=val_loader, scheduler=scheduler\n",
        ")"
      ],
      "metadata": {
        "colab": {
          "base_uri": "https://localhost:8080/"
        },
        "id": "0HfpUSvVxbU1",
        "outputId": "1539f423-e0fb-4e8c-f18d-5ed0538a9de3"
      },
      "execution_count": 22,
      "outputs": [
        {
          "output_type": "stream",
          "name": "stdout",
          "text": [
            "Epoch 0\n",
            " train loss: 1.4837250424041608, train acc: 0.46951717160083695\n",
            " val loss: 1.2402742101791058, val acc: 0.5659352837724888\n",
            "\n",
            "Epoch 1\n",
            " train loss: 1.1619815372025946, train acc: 0.5932072669104205\n",
            " val loss: 1.1041588146635826, val acc: 0.6144503547790202\n",
            "\n",
            "Epoch 2\n",
            " train loss: 1.0531455574785333, train acc: 0.6331124314442413\n",
            " val loss: 1.1313075879786878, val acc: 0.6195035461415636\n",
            "\n",
            "Epoch 3\n",
            " train loss: 0.9939296389410657, train acc: 0.6543973623289705\n",
            " val loss: 1.042417946521272, val acc: 0.6474512412192973\n",
            "\n",
            "Epoch 4\n",
            " train loss: 0.9537007228983821, train acc: 0.6682390964009426\n",
            " val loss: 1.0048292451716483, val acc: 0.656781914893617\n",
            "\n",
            "Epoch 5\n",
            " train loss: 0.829023902878247, train acc: 0.7157670084039733\n",
            " val loss: 0.8725005809296953, val acc: 0.7\n",
            "\n",
            "Epoch 6\n",
            " train loss: 0.807800482515879, train acc: 0.7210311112717693\n",
            " val loss: 0.8635442923992238, val acc: 0.7039893617021277\n",
            "\n",
            "Epoch 7\n",
            " train loss: 0.7976558165968664, train acc: 0.7257892074271137\n",
            " val loss: 0.8733323036356175, val acc: 0.6968306739279564\n",
            "\n",
            "Epoch 8\n",
            " train loss: 0.7927428748751472, train acc: 0.7272174523996915\n",
            " val loss: 0.861120841604598, val acc: 0.7054299646235527\n",
            "\n",
            "Epoch 9\n",
            " train loss: 0.7865022366944789, train acc: 0.728025430953045\n",
            " val loss: 0.8538459407522323, val acc: 0.7083111702127659\n",
            "\n",
            "Epoch 10\n",
            " train loss: 0.7679400069731027, train acc: 0.7355910486233518\n",
            " val loss: 0.8450913256787239, val acc: 0.7116134752618506\n",
            "\n",
            "Epoch 11\n",
            " train loss: 0.7644185561693565, train acc: 0.7369417602662849\n",
            " val loss: 0.8437888815047893, val acc: 0.711812943346957\n",
            "\n",
            "Epoch 12\n",
            " train loss: 0.7645890638096023, train acc: 0.7382149386885397\n",
            " val loss: 0.843270302579758, val acc: 0.7116799646235527\n",
            "\n",
            "Epoch 13\n",
            " train loss: 0.7642240596209845, train acc: 0.7370682620261225\n",
            " val loss: 0.8428159373871824, val acc: 0.7126773050490846\n",
            "\n",
            "Epoch 14\n",
            " train loss: 0.7630675383307163, train acc: 0.7368805497830268\n",
            " val loss: 0.8437247108905873, val acc: 0.7125664893617021\n",
            "\n",
            "Epoch 15\n",
            " train loss: 0.7603690924439613, train acc: 0.7377007704984118\n",
            " val loss: 0.8425489694514173, val acc: 0.7132092199427016\n",
            "\n",
            "Epoch 16\n",
            " train loss: 0.7592131113003551, train acc: 0.7393167277140853\n",
            " val loss: 0.8418798210773062, val acc: 0.7124113476022761\n",
            "\n",
            "Epoch 17\n",
            " train loss: 0.7602049476267869, train acc: 0.738888254222312\n",
            " val loss: 0.8420666402958809, val acc: 0.7119459220703612\n",
            "\n",
            "Epoch 18\n",
            " train loss: 0.7592712272455749, train acc: 0.7390392400882798\n",
            " val loss: 0.8420496712339686, val acc: 0.7122783688788719\n",
            "\n",
            "Epoch 19\n",
            " train loss: 0.7600952352531649, train acc: 0.7380149843923789\n",
            " val loss: 0.8418835234134755, val acc: 0.7122783688788719\n",
            "\n"
          ]
        }
      ]
    },
    {
      "cell_type": "code",
      "source": [
        "test_loss, test_acc = test(net, test_loader)\n",
        "print(f\"Потери на тестовой выборке: {test_loss:.4f}; Точность на тестовой выборке: {test_acc:.4%}\")"
      ],
      "metadata": {
        "colab": {
          "base_uri": "https://localhost:8080/"
        },
        "id": "fjjJpDWcyaV0",
        "outputId": "176d1f8b-0d84-4f3b-edf9-76a68442f942"
      },
      "execution_count": 23,
      "outputs": [
        {
          "output_type": "stream",
          "name": "stdout",
          "text": [
            "Потери на тестовой выборке: 0.8522; Точность на тестовой выборке: 70.7006%\n"
          ]
        }
      ]
    },
    {
      "cell_type": "markdown",
      "metadata": {
        "id": "5a_zMNNVO9Du",
        "pycharm": {
          "name": "#%% md\n"
        }
      },
      "source": [
        "Your answers here:"
      ]
    },
    {
      "cell_type": "markdown",
      "source": [
        "Из трех методов наибольшую точность на тестовой выборке обеспечил CosineAnnealingLR (72.01%). Это связано с плавным изменением длины шага, которое позволяет модели исследовать пространство параметров более эффективно. CosineAnnealingLR улучшило качество на тестовой выборке, однако относительно MultiStepLR это улучшение незначительно."
      ],
      "metadata": {
        "id": "d1juEmrYs-sj"
      }
    },
    {
      "cell_type": "markdown",
      "metadata": {
        "id": "7xFXgl_3_E--",
        "pycharm": {
          "name": "#%% md\n"
        }
      },
      "source": [
        "## 4. Аугментации данных (2 балла)"
      ]
    },
    {
      "cell_type": "markdown",
      "metadata": {
        "id": "5G0Easo9O9Du",
        "pycharm": {
          "name": "#%% md\n"
        }
      },
      "source": [
        "Еще одной стандартной техникой, применяющейся в глубинном обучении, а особенно часто в компьютерном зрении, являются аугментации данных. Суть аугментаций состоит в том, что мы можем некоторым синтетическим образом видоизменять объекты обучающей выборки, тем самым расширяя ее, а также делая итоговую модель более устойчивой к таким изменениям.\n",
        "\n",
        "Простейшая аугментация, которую можно применить к картинкам — разворот картинки по горизонтальной оси. То есть при обучении модели с вероятностью $0.5$ мы будем разворачивать картинку из обучающей выборки."
      ]
    },
    {
      "cell_type": "code",
      "execution_count": 24,
      "metadata": {
        "id": "SzeFpgtfO9Du",
        "pycharm": {
          "name": "#%%\n"
        },
        "colab": {
          "base_uri": "https://localhost:8080/",
          "height": 369
        },
        "outputId": "099ec6c0-d123-49c8-8121-949604e31ede"
      },
      "outputs": [
        {
          "output_type": "display_data",
          "data": {
            "text/plain": [
              "<Figure size 640x480 with 1 Axes>"
            ],
            "image/png": "[encoded data removed]"
          },
          "metadata": {}
        },
        {
          "output_type": "display_data",
          "data": {
            "text/plain": [
              "<Figure size 640x480 with 1 Axes>"
            ],
            "image/png": "[encoded data removed]"
          },
          "metadata": {}
        }
      ],
      "source": [
        "dataiter = iter(train_loader)\n",
        "images, labels = next(dataiter)\n",
        "\n",
        "imshow(torchvision.utils.make_grid(images[:4]))\n",
        "\n",
        "imshow(torchvision.utils.make_grid(transforms.functional.hflip(images[:4])))"
      ]
    },
    {
      "cell_type": "markdown",
      "metadata": {
        "id": "BR4a-XJQO9Du",
        "pycharm": {
          "name": "#%% md\n"
        }
      },
      "source": [
        "Наиболее удобным способом работы с аугментациями в PyTorch является их задание в списке <code>transforms</code>, который затем передается в загрузчик данных. Обучим нашу сеть, применяя горизонтальные повороты:"
      ]
    },
    {
      "cell_type": "code",
      "execution_count": 25,
      "metadata": {
        "id": "na0ScBf-_AqX",
        "scrolled": true,
        "pycharm": {
          "name": "#%%\n"
        },
        "colab": {
          "base_uri": "https://localhost:8080/"
        },
        "outputId": "9a819765-d918-4ecc-da20-c3ef83054626"
      },
      "outputs": [
        {
          "output_type": "stream",
          "name": "stdout",
          "text": [
            "Files already downloaded and verified\n",
            "Files already downloaded and verified\n",
            "Epoch 0\n",
            " train loss: 1.4857304137629173, train acc: 0.4703904414307701\n",
            " val loss: 1.3182013400057528, val acc: 0.5294326241980207\n",
            "\n",
            "Epoch 1\n",
            " train loss: 1.1916688214272424, train acc: 0.5793124837239002\n",
            " val loss: 1.1481179607675431, val acc: 0.6\n",
            "\n",
            "Epoch 2\n",
            " train loss: 1.0641000537811294, train acc: 0.6276116480121229\n",
            " val loss: 1.0616310028319662, val acc: 0.6334663122258288\n",
            "\n",
            "Epoch 3\n",
            " train loss: 1.0001033608830607, train acc: 0.6530344085240058\n",
            " val loss: 0.9900085839819401, val acc: 0.6609929079705096\n",
            "\n",
            "Epoch 4\n",
            " train loss: 0.9570021399414299, train acc: 0.6693531274795532\n",
            " val loss: 1.0395469074553632, val acc: 0.6403147164811479\n",
            "\n",
            "Epoch 5\n",
            " train loss: 0.9220056371453476, train acc: 0.6828235179676216\n",
            " val loss: 0.941111770589301, val acc: 0.6680851063829787\n",
            "\n",
            "Epoch 6\n",
            " train loss: 0.9043192474454151, train acc: 0.6890629081011255\n",
            " val loss: 0.9894905285632357, val acc: 0.6542996454746165\n",
            "\n",
            "Epoch 7\n",
            " train loss: 0.8952696700963503, train acc: 0.6902952794618973\n",
            " val loss: 0.8703039100829592, val acc: 0.7008200356300841\n",
            "\n",
            "Epoch 8\n",
            " train loss: 0.8775185094890908, train acc: 0.6969100940815928\n",
            " val loss: 0.9113992845758478, val acc: 0.6919326241980208\n",
            "\n",
            "Epoch 9\n",
            " train loss: 0.8571988157859886, train acc: 0.7029944176647738\n",
            " val loss: 0.8748314782660058, val acc: 0.7024157803109352\n",
            "\n",
            "Epoch 10\n",
            " train loss: 0.7686618149171581, train acc: 0.7379537739091208\n",
            " val loss: 0.8038716364414134, val acc: 0.7238918441407224\n",
            "\n",
            "Epoch 11\n",
            " train loss: 0.754145148903186, train acc: 0.7395615696471177\n",
            " val loss: 0.794915020846306, val acc: 0.7283023050490846\n",
            "\n",
            "Epoch 12\n",
            " train loss: 0.7480587238476525, train acc: 0.7416998564216293\n",
            " val loss: 0.7933640164263704, val acc: 0.7313164893617021\n",
            "\n",
            "Epoch 13\n",
            " train loss: 0.7439357369211953, train acc: 0.7450133847580096\n",
            " val loss: 0.7857193260750872, val acc: 0.7319370569066799\n",
            "\n",
            "Epoch 14\n",
            " train loss: 0.7408223942167362, train acc: 0.7448746409451068\n",
            " val loss: 0.7920922796776955, val acc: 0.7279033688788719\n",
            "\n",
            "Epoch 15\n",
            " train loss: 0.7283577553968761, train acc: 0.7496817054216779\n",
            " val loss: 0.783251712804145, val acc: 0.7315602837724888\n",
            "\n",
            "Epoch 16\n",
            " train loss: 0.7253005248537011, train acc: 0.7511956450926103\n",
            " val loss: 0.7792809871917076, val acc: 0.7343085106382978\n",
            "\n",
            "Epoch 17\n",
            " train loss: 0.724502145481284, train acc: 0.7505386524052245\n",
            " val loss: 0.7823314944480327, val acc: 0.733843085106383\n",
            "\n",
            "Epoch 18\n",
            " train loss: 0.7249608889249387, train acc: 0.7516812483832866\n",
            " val loss: 0.7794931264633828, val acc: 0.7359264186088075\n",
            "\n",
            "Epoch 19\n",
            " train loss: 0.7242674851548301, train acc: 0.7515261818329638\n",
            " val loss: 0.7808474360628331, val acc: 0.7349955675449777\n",
            "\n"
          ]
        }
      ],
      "source": [
        "transform = transforms.Compose(\n",
        "        [transforms.RandomHorizontalFlip(),\n",
        "         transforms.ToTensor(),\n",
        "         transforms.Normalize((0.5, 0.5, 0.5), (0.5, 0.5, 0.5))]\n",
        ")\n",
        "\n",
        "train_loader, val_loader, test_loader = get_cifar10_data(batch_size=64, transform_train=transform)\n",
        "\n",
        "net = BasicBlockNet().to(device)\n",
        "optimizer = optim.SGD(net.parameters(), lr=0.1, momentum=0.9)\n",
        "scheduler = optim.lr_scheduler.MultiStepLR(optimizer, milestones=[10, 15], gamma=0.1)\n",
        "tr_loss_log, tr_acc_log, val_loss_log, val_acc_log = train(net, optimizer, 20, train_loader, val_loader, scheduler)"
      ]
    },
    {
      "cell_type": "markdown",
      "metadata": {
        "id": "v3ZIqDQqO9Dv",
        "pycharm": {
          "name": "#%% md\n"
        }
      },
      "source": [
        "Посчитайте точность на тестовой выборке:"
      ]
    },
    {
      "cell_type": "code",
      "execution_count": 26,
      "metadata": {
        "id": "nNJizMkM_Auh",
        "pycharm": {
          "name": "#%%\n"
        },
        "colab": {
          "base_uri": "https://localhost:8080/"
        },
        "outputId": "5a4e2acf-ba63-43a5-dbd3-8c941705a8ed"
      },
      "outputs": [
        {
          "output_type": "stream",
          "name": "stdout",
          "text": [
            "Потери на тестовой выборке: 0.7961; Точность на тестовой выборке: 72.6015%\n"
          ]
        }
      ],
      "source": [
        "test_loss, test_acc = test(net, test_loader)\n",
        "print(f\"Потери на тестовой выборке: {test_loss:.4f}; Точность на тестовой выборке: {test_acc:.4%}\")"
      ]
    },
    {
      "cell_type": "markdown",
      "metadata": {
        "id": "KndehSCHO9Dv",
        "pycharm": {
          "name": "#%% md\n"
        }
      },
      "source": [
        "**Задание 4.1 (2 балла).** Изучите, какие еще способы аугментаций изображений представлены в <code>torchvision.transforms</code>. Выберите несколько из них, объясните, как они устроены, и обучите модель с ними (по отдельности и вместе). Удалось ли добиться улучшения качества на тестовой выборке?"
      ]
    },
    {
      "cell_type": "markdown",
      "source": [
        "###RandomCrop  \n",
        "Как работает:  \n",
        "RandomCrop случайным образом вырезает участок изображения заданного размера. Это помогает модели быть устойчивой к изменениям положения объекта в кадре.\n"
      ],
      "metadata": {
        "id": "A-bdgnR9BwP5"
      }
    },
    {
      "cell_type": "code",
      "source": [
        "transform = transforms.Compose([\n",
        "    transforms.RandomCrop(32, padding=4),\n",
        "    transforms.ToTensor(),\n",
        "    transforms.Normalize((0.5,), (0.5,))\n",
        "])\n",
        "\n",
        "train_loader, val_loader, test_loader = get_cifar10_data(batch_size=64, transform_train=transform)\n",
        "\n",
        "net = BasicBlockNet().to(device)\n",
        "optimizer = optim.SGD(net.parameters(), lr=0.1, momentum=0.9)\n",
        "scheduler = optim.lr_scheduler.MultiStepLR(optimizer, milestones=[10, 15], gamma=0.1)\n",
        "tr_loss_log, tr_acc_log, val_loss_log, val_acc_log = train(net, optimizer, 20, train_loader, val_loader, scheduler)"
      ],
      "metadata": {
        "colab": {
          "base_uri": "https://localhost:8080/"
        },
        "id": "w8v0wjp1B2XI",
        "outputId": "9ab76392-53bb-43a9-a31b-4714480530d4"
      },
      "execution_count": 27,
      "outputs": [
        {
          "output_type": "stream",
          "name": "stdout",
          "text": [
            "Files already downloaded and verified\n",
            "Files already downloaded and verified\n",
            "Epoch 0\n",
            " train loss: 1.6665913452831875, train acc: 0.39495870334792615\n",
            " val loss: 1.5235481911517204, val acc: 0.43699024826922317\n",
            "\n",
            "Epoch 1\n",
            " train loss: 1.3780121914429464, train acc: 0.505349797675117\n",
            " val loss: 1.2580275573629014, val acc: 0.5533909574468086\n",
            "\n",
            "Epoch 2\n",
            " train loss: 1.2402167841111067, train acc: 0.5599985310102947\n",
            " val loss: 1.165469097583852, val acc: 0.591533688027808\n",
            "\n",
            "Epoch 3\n",
            " train loss: 1.176260062283964, train acc: 0.5863802559414991\n",
            " val loss: 1.2646251059593039, val acc: 0.5698359929500743\n",
            "\n",
            "Epoch 4\n",
            " train loss: 1.1345218874418757, train acc: 0.600495397009405\n",
            " val loss: 1.3175508466172725, val acc: 0.552437943346957\n",
            "\n",
            "Epoch 5\n",
            " train loss: 1.111049706255932, train acc: 0.6096484069414505\n",
            " val loss: 1.151334775762355, val acc: 0.5985372340425532\n",
            "\n",
            "Epoch 6\n",
            " train loss: 1.078642109194447, train acc: 0.6213028859176845\n",
            " val loss: 1.0760723943405963, val acc: 0.6232047872340426\n",
            "\n",
            "Epoch 7\n",
            " train loss: 1.0618931982373407, train acc: 0.62792586190609\n",
            " val loss: 1.1050026028714282, val acc: 0.614782801587531\n",
            "\n",
            "Epoch 8\n",
            " train loss: 1.049006855139131, train acc: 0.6324227931730491\n",
            " val loss: 1.0371072855401546, val acc: 0.6422207446808511\n",
            "\n",
            "Epoch 9\n",
            " train loss: 1.0248719887498092, train acc: 0.6439915774509284\n",
            " val loss: 1.0346891542698475, val acc: 0.6377881207364671\n",
            "\n",
            "Epoch 10\n",
            " train loss: 0.9332148641947201, train acc: 0.6765106751888282\n",
            " val loss: 0.9396060626557533, val acc: 0.6736702127659574\n",
            "\n",
            "Epoch 11\n",
            " train loss: 0.9127772203093255, train acc: 0.6814687255313671\n",
            " val loss: 0.9327775052253237, val acc: 0.6790558510638298\n",
            "\n",
            "Epoch 12\n",
            " train loss: 0.9064808954268531, train acc: 0.6863737268683243\n",
            " val loss: 0.9427586228289503, val acc: 0.6688386526513607\n",
            "\n",
            "Epoch 13\n",
            " train loss: 0.8992414631398984, train acc: 0.6872633194356775\n",
            " val loss: 0.9253444440821383, val acc: 0.676529255319149\n",
            "\n",
            "Epoch 14\n",
            " train loss: 0.9014951467949904, train acc: 0.6860023831754541\n",
            " val loss: 0.9269987699833322, val acc: 0.677282801587531\n",
            "\n",
            "Epoch 15\n",
            " train loss: 0.8862886520364821, train acc: 0.6930783168707295\n",
            " val loss: 0.91713788027459, val acc: 0.680629432708659\n",
            "\n",
            "Epoch 16\n",
            " train loss: 0.8826432437303952, train acc: 0.6932701096892139\n",
            " val loss: 0.9140847525698074, val acc: 0.6794326241980208\n",
            "\n",
            "Epoch 17\n",
            " train loss: 0.8811433818157238, train acc: 0.6951839580614344\n",
            " val loss: 0.9162912061873902, val acc: 0.6830895390916378\n",
            "\n",
            "Epoch 18\n",
            " train loss: 0.8863034157909903, train acc: 0.691205275559992\n",
            " val loss: 0.9146010693083418, val acc: 0.6830008866939139\n",
            "\n",
            "Epoch 19\n",
            " train loss: 0.8803727457357717, train acc: 0.6948289371059844\n",
            " val loss: 0.913946236448085, val acc: 0.6869015957446809\n",
            "\n"
          ]
        }
      ]
    },
    {
      "cell_type": "code",
      "source": [
        "test_loss, test_acc = test(net, test_loader)\n",
        "print(f\"Потери на тестовой выборке: {test_loss:.4f}; Точность на тестовой выборке: {test_acc:.4%}\")"
      ],
      "metadata": {
        "colab": {
          "base_uri": "https://localhost:8080/"
        },
        "id": "LLYT2NJ6EgZO",
        "outputId": "f400d1be-151c-4a18-96a4-ec21c081c0a4"
      },
      "execution_count": 28,
      "outputs": [
        {
          "output_type": "stream",
          "name": "stdout",
          "text": [
            "Потери на тестовой выборке: 0.8453; Точность на тестовой выборке: 70.5215%\n"
          ]
        }
      ]
    },
    {
      "cell_type": "markdown",
      "source": [
        "###RandomRotation  \n",
        "Как работает:  \n",
        "RandomRotation поворачивает изображение на случайный угол в заданном диапазоне. Это позволяет модели быть инвариантной к поворотам объекта.\n"
      ],
      "metadata": {
        "id": "NMRFKXwFB4WR"
      }
    },
    {
      "cell_type": "code",
      "source": [
        "transform = transforms.Compose([\n",
        "    transforms.RandomRotation(15),\n",
        "    transforms.ToTensor(),\n",
        "    transforms.Normalize((0.5,), (0.5,))\n",
        "])\n",
        "\n",
        "train_loader, val_loader, test_loader = get_cifar10_data(batch_size=64, transform_train=transform)\n",
        "\n",
        "net = BasicBlockNet().to(device)\n",
        "optimizer = optim.SGD(net.parameters(), lr=0.1, momentum=0.9)\n",
        "scheduler = optim.lr_scheduler.MultiStepLR(optimizer, milestones=[10, 15], gamma=0.1)\n",
        "tr_loss_log, tr_acc_log, val_loss_log, val_acc_log = train(net, optimizer, 20, train_loader, val_loader, scheduler)"
      ],
      "metadata": {
        "colab": {
          "base_uri": "https://localhost:8080/"
        },
        "id": "4wrppfWGB42J",
        "outputId": "d8e4c5a7-0f68-4361-b444-a2572c2f5496"
      },
      "execution_count": 29,
      "outputs": [
        {
          "output_type": "stream",
          "name": "stdout",
          "text": [
            "Files already downloaded and verified\n",
            "Files already downloaded and verified\n",
            "Epoch 0\n",
            " train loss: 1.5474837368977352, train acc: 0.44460041791037186\n",
            " val loss: 1.3544739261586616, val acc: 0.5133643617021276\n",
            "\n",
            "Epoch 1\n",
            " train loss: 1.2803983225247106, train acc: 0.5449325868372943\n",
            " val loss: 1.1804155372558756, val acc: 0.5790780143534884\n",
            "\n",
            "Epoch 2\n",
            " train loss: 1.1650213170966892, train acc: 0.5909914469152308\n",
            " val loss: 1.1026346779884175, val acc: 0.6128989361702127\n",
            "\n",
            "Epoch 3\n",
            " train loss: 1.0979375298759837, train acc: 0.6143289697671503\n",
            " val loss: 1.0809204512454094, val acc: 0.6249113476022761\n",
            "\n",
            "Epoch 4\n",
            " train loss: 1.0537045673216936, train acc: 0.6302273765996343\n",
            " val loss: 1.0746064766924432, val acc: 0.623692376055616\n",
            "\n",
            "Epoch 5\n",
            " train loss: 1.022227082871432, train acc: 0.6429387568555759\n",
            " val loss: 1.0581559067076824, val acc: 0.6301196808510638\n",
            "\n",
            "Epoch 6\n",
            " train loss: 1.0018878389538097, train acc: 0.6499330765368516\n",
            " val loss: 0.9931532015191747, val acc: 0.6475842199427017\n",
            "\n",
            "Epoch 7\n",
            " train loss: 0.9857690684102353, train acc: 0.653348622417973\n",
            " val loss: 1.0009788226574026, val acc: 0.652969858240574\n",
            "\n",
            "Epoch 8\n",
            " train loss: 0.9691249286888722, train acc: 0.6628648146196955\n",
            " val loss: 0.9835726053156751, val acc: 0.6568927305809995\n",
            "\n",
            "Epoch 9\n",
            " train loss: 0.9509432420434202, train acc: 0.6645093367348206\n",
            " val loss: 0.9580534240032764, val acc: 0.6707668441407224\n",
            "\n",
            "Epoch 10\n",
            " train loss: 0.8534575335177469, train acc: 0.7041737399109974\n",
            " val loss: 0.8957456147417109, val acc: 0.6862145390916378\n",
            "\n",
            "Epoch 11\n",
            " train loss: 0.8399911079916701, train acc: 0.706834356244347\n",
            " val loss: 0.8912541632956646, val acc: 0.690093085106383\n",
            "\n",
            "Epoch 12\n",
            " train loss: 0.8378609306088749, train acc: 0.7078422892028279\n",
            " val loss: 0.8884589639115841, val acc: 0.6896941489361702\n",
            "\n",
            "Epoch 13\n",
            " train loss: 0.8298568666744058, train acc: 0.712449399383238\n",
            " val loss: 0.8818723886571032, val acc: 0.6927969859001485\n",
            "\n",
            "Epoch 14\n",
            " train loss: 0.8238911112767033, train acc: 0.7130002938415276\n",
            " val loss: 0.88265797888979, val acc: 0.6967198582405739\n",
            "\n",
            "Epoch 15\n",
            " train loss: 0.8116303121150085, train acc: 0.7156609101748772\n",
            " val loss: 0.8717745124025548, val acc: 0.6963652483960415\n",
            "\n",
            "Epoch 16\n",
            " train loss: 0.8136386142352381, train acc: 0.7173421585581639\n",
            " val loss: 0.8738998187349197, val acc: 0.6972739361702127\n",
            "\n",
            "Epoch 17\n",
            " train loss: 0.8090878823121679, train acc: 0.718231751125517\n",
            " val loss: 0.8743655628346382, val acc: 0.6956781914893617\n",
            "\n",
            "Epoch 18\n",
            " train loss: 0.8089755071800413, train acc: 0.7213738900651879\n",
            " val loss: 0.8715694272771795, val acc: 0.6965647164811479\n",
            "\n",
            "Epoch 19\n",
            " train loss: 0.8047065938630531, train acc: 0.720643444841479\n",
            " val loss: 0.8699779028588153, val acc: 0.6942597518575953\n",
            "\n"
          ]
        }
      ]
    },
    {
      "cell_type": "code",
      "source": [
        "test_loss, test_acc = test(net, test_loader)\n",
        "print(f\"Потери на тестовой выборке: {test_loss:.4f}; Точность на тестовой выборке: {test_acc:.4%}\")"
      ],
      "metadata": {
        "colab": {
          "base_uri": "https://localhost:8080/"
        },
        "id": "O7CE221kGfZW",
        "outputId": "2a735508-7655-4fa3-f71b-c227da643e47"
      },
      "execution_count": 30,
      "outputs": [
        {
          "output_type": "stream",
          "name": "stdout",
          "text": [
            "Потери на тестовой выборке: 0.8348; Точность на тестовой выборке: 71.3973%\n"
          ]
        }
      ]
    },
    {
      "cell_type": "markdown",
      "source": [
        "###ColorJitter  \n",
        "Как работает:  \n",
        "ColorJitter случайным образом изменяет яркость, контрастность, насыщенность и оттенок изображения. Это помогает модели справляться с различными условиями освещения и цветовыми искажениями.\n"
      ],
      "metadata": {
        "id": "cvsCOVqcCEVg"
      }
    },
    {
      "cell_type": "code",
      "source": [
        "transform = transforms.Compose([\n",
        "    transforms.ColorJitter(brightness=0.2, contrast=0.2, saturation=0.2, hue=0.1),\n",
        "    transforms.ToTensor(),\n",
        "    transforms.Normalize((0.5,), (0.5,))\n",
        "])\n",
        "\n",
        "train_loader, val_loader, test_loader = get_cifar10_data(batch_size=64, transform_train=transform)\n",
        "\n",
        "net = BasicBlockNet().to(device)\n",
        "optimizer = optim.SGD(net.parameters(), lr=0.1, momentum=0.9)\n",
        "scheduler = optim.lr_scheduler.MultiStepLR(optimizer, milestones=[10, 15], gamma=0.1)\n",
        "tr_loss_log, tr_acc_log, val_loss_log, val_acc_log = train(net, optimizer, 20, train_loader, val_loader, scheduler)"
      ],
      "metadata": {
        "colab": {
          "base_uri": "https://localhost:8080/"
        },
        "id": "YzovEnNoDKFY",
        "outputId": "8deaf7f4-fd4f-46d9-e56d-1782abbbd6e7"
      },
      "execution_count": 31,
      "outputs": [
        {
          "output_type": "stream",
          "name": "stdout",
          "text": [
            "Files already downloaded and verified\n",
            "Files already downloaded and verified\n",
            "Epoch 0\n",
            " train loss: 1.534522044811214, train acc: 0.45296177208096716\n",
            " val loss: 1.357803966136689, val acc: 0.521719858240574\n",
            "\n",
            "Epoch 1\n",
            " train loss: 1.2154924064275334, train acc: 0.5759418255886168\n",
            " val loss: 1.1386056019904767, val acc: 0.6092420212765958\n",
            "\n",
            "Epoch 2\n",
            " train loss: 1.1067858707752263, train acc: 0.6136678963954095\n",
            " val loss: 1.0726404086072394, val acc: 0.6312943263256804\n",
            "\n",
            "Epoch 3\n",
            " train loss: 1.0502111485714887, train acc: 0.6374461347921675\n",
            " val loss: 1.196383430349066, val acc: 0.5939494680851064\n",
            "\n",
            "Epoch 4\n",
            " train loss: 1.0117437193337044, train acc: 0.6494025856093035\n",
            " val loss: 1.0879370544819122, val acc: 0.6301861702127659\n",
            "\n",
            "Epoch 5\n",
            " train loss: 0.98005102147132, train acc: 0.6608938365575382\n",
            " val loss: 1.024209429101741, val acc: 0.6460549646235527\n",
            "\n",
            "Epoch 6\n",
            " train loss: 0.9588799400347024, train acc: 0.668153401702588\n",
            " val loss: 1.0372305986729073, val acc: 0.643218085106383\n",
            "\n",
            "Epoch 7\n",
            " train loss: 0.9440639634128026, train acc: 0.6732991642882227\n",
            " val loss: 1.017183097119027, val acc: 0.6451019505237011\n",
            "\n",
            "Epoch 8\n",
            " train loss: 0.9299858111132215, train acc: 0.6740500131516396\n",
            " val loss: 0.9576031347538563, val acc: 0.6718971632896585\n",
            "\n",
            "Epoch 9\n",
            " train loss: 0.909408198741062, train acc: 0.6840395664820069\n",
            " val loss: 0.9419160028721424, val acc: 0.6819148936170213\n",
            "\n",
            "Epoch 10\n",
            " train loss: 0.8114183235647909, train acc: 0.7201047924362545\n",
            " val loss: 0.8765547770134946, val acc: 0.6991356382978723\n",
            "\n",
            "Epoch 11\n",
            " train loss: 0.7958620899991972, train acc: 0.7258463372260169\n",
            " val loss: 0.8750589256590985, val acc: 0.7027039007937654\n",
            "\n",
            "Epoch 12\n",
            " train loss: 0.7884516743245029, train acc: 0.7276418452071097\n",
            " val loss: 0.8678520428373458, val acc: 0.7019281914893617\n",
            "\n",
            "Epoch 13\n",
            " train loss: 0.7833871981452545, train acc: 0.7297678898195897\n",
            " val loss: 0.8668112173993536, val acc: 0.7050753547790203\n",
            "\n",
            "Epoch 14\n",
            " train loss: 0.7802480590517822, train acc: 0.732771284946358\n",
            " val loss: 0.8663056728687692, val acc: 0.7062278369639782\n",
            "\n",
            "Epoch 15\n",
            " train loss: 0.7691214424055717, train acc: 0.7354563854948041\n",
            " val loss: 0.8547334280419857, val acc: 0.7079787234042553\n",
            "\n",
            "Epoch 16\n",
            " train loss: 0.7635180725149089, train acc: 0.7369907286964779\n",
            " val loss: 0.8571686075088826, val acc: 0.7061613476022761\n",
            "\n",
            "Epoch 17\n",
            " train loss: 0.7684833869964592, train acc: 0.733322179513614\n",
            " val loss: 0.8590097582086603, val acc: 0.7057402483960415\n",
            "\n",
            "Epoch 18\n",
            " train loss: 0.7641026461037247, train acc: 0.737562026685509\n",
            " val loss: 0.8589483529963392, val acc: 0.7112588654173181\n",
            "\n",
            "Epoch 19\n",
            " train loss: 0.7616222481187127, train acc: 0.7399002677561815\n",
            " val loss: 0.8552307874598402, val acc: 0.7103945037151905\n",
            "\n"
          ]
        }
      ]
    },
    {
      "cell_type": "code",
      "source": [
        "test_loss, test_acc = test(net, test_loader)\n",
        "print(f\"Потери на тестовой выборке: {test_loss:.4f}; Точность на тестовой выборке: {test_acc:.4%}\")"
      ],
      "metadata": {
        "id": "55LSC8KgIoOL",
        "colab": {
          "base_uri": "https://localhost:8080/"
        },
        "outputId": "02e535ab-fff4-4ad4-bb0f-b6768c91577a"
      },
      "execution_count": 32,
      "outputs": [
        {
          "output_type": "stream",
          "name": "stdout",
          "text": [
            "Потери на тестовой выборке: 0.8435; Точность на тестовой выборке: 71.6859%\n"
          ]
        }
      ]
    },
    {
      "cell_type": "markdown",
      "source": [
        "###Комбинация аугментаций  \n",
        "\n",
        "\n",
        "\n",
        "\n",
        "\n"
      ],
      "metadata": {
        "id": "tpNF6dlUCIAA"
      }
    },
    {
      "cell_type": "code",
      "source": [
        "transform = transforms.Compose([\n",
        "    transforms.RandomCrop(32, padding=4),\n",
        "    transforms.RandomHorizontalFlip(),\n",
        "    transforms.RandomRotation(15),\n",
        "    transforms.ColorJitter(brightness=0.2, contrast=0.2, saturation=0.2, hue=0.1),\n",
        "    transforms.ToTensor(),\n",
        "    transforms.Normalize((0.5,), (0.5,))\n",
        "])\n",
        "\n",
        "\n",
        "train_loader, val_loader, test_loader = get_cifar10_data(batch_size=64, transform_train=transform)\n",
        "\n",
        "net = BasicBlockNet().to(device)\n",
        "optimizer = optim.SGD(net.parameters(), lr=0.1, momentum=0.9)\n",
        "scheduler = optim.lr_scheduler.MultiStepLR(optimizer, milestones=[10, 15], gamma=0.1)\n",
        "tr_loss_log, tr_acc_log, val_loss_log, val_acc_log = train(net, optimizer, 20, train_loader, val_loader, scheduler)"
      ],
      "metadata": {
        "id": "R3bTeX6ECHyw",
        "colab": {
          "base_uri": "https://localhost:8080/"
        },
        "outputId": "7549d0ef-5f8b-4f71-ca3e-1014faaee329"
      },
      "execution_count": 33,
      "outputs": [
        {
          "output_type": "stream",
          "name": "stdout",
          "text": [
            "Files already downloaded and verified\n",
            "Files already downloaded and verified\n",
            "Epoch 0\n",
            " train loss: 1.7520663670691536, train acc: 0.36411677336344117\n",
            " val loss: 1.6327490223214982, val acc: 0.4004210993330529\n",
            "\n",
            "Epoch 1\n",
            " train loss: 1.5414742806711843, train acc: 0.4442168321099534\n",
            " val loss: 1.4612798447304585, val acc: 0.4708333333756061\n",
            "\n",
            "Epoch 2\n",
            " train loss: 1.432267665318205, train acc: 0.4876762862833152\n",
            " val loss: 1.3581201842490662, val acc: 0.518218085106383\n",
            "\n",
            "Epoch 3\n",
            " train loss: 1.3489348602905133, train acc: 0.5216236288848263\n",
            " val loss: 1.3007865324933479, val acc: 0.5435283688788718\n",
            "\n",
            "Epoch 4\n",
            " train loss: 1.296094867930334, train acc: 0.5417986093752999\n",
            " val loss: 1.334773775871764, val acc: 0.5370345744680851\n",
            "\n",
            "Epoch 5\n",
            " train loss: 1.2559719378813092, train acc: 0.5559627188189156\n",
            " val loss: 1.2341072305719902, val acc: 0.5659796100981692\n",
            "\n",
            "Epoch 6\n",
            " train loss: 1.2270674979011145, train acc: 0.5696901932930816\n",
            " val loss: 1.2626581255425797, val acc: 0.5539671986661059\n",
            "\n",
            "Epoch 7\n",
            " train loss: 1.2162982034726815, train acc: 0.5708327892711437\n",
            " val loss: 1.1884406825329394, val acc: 0.5868572696726373\n",
            "\n",
            "Epoch 8\n",
            " train loss: 1.2034760398664248, train acc: 0.5758806151053587\n",
            " val loss: 1.177055376387657, val acc: 0.5846187944107867\n",
            "\n",
            "Epoch 9\n",
            " train loss: 1.1867802951627937, train acc: 0.5823689279652164\n",
            " val loss: 1.1950841424312997, val acc: 0.5850620569066799\n",
            "\n",
            "Epoch 10\n",
            " train loss: 1.093120168942202, train acc: 0.6173772526397565\n",
            " val loss: 1.0740756963161713, val acc: 0.623160461161999\n",
            "\n",
            "Epoch 11\n",
            " train loss: 1.0740830528888667, train acc: 0.6212906438646194\n",
            " val loss: 1.0751863953915048, val acc: 0.625\n",
            "\n",
            "Epoch 12\n",
            " train loss: 1.0675709994009253, train acc: 0.6275055497830268\n",
            " val loss: 1.0671099051516106, val acc: 0.6279920212765957\n",
            "\n",
            "Epoch 13\n",
            " train loss: 1.0590074200734796, train acc: 0.6294112366775708\n",
            " val loss: 1.0573351056017775, val acc: 0.6324246454746165\n",
            "\n",
            "Epoch 14\n",
            " train loss: 1.0625226182737124, train acc: 0.6291133455210237\n",
            " val loss: 1.0646493191414692, val acc: 0.6317375888215735\n",
            "\n",
            "Epoch 15\n",
            " train loss: 1.0479919746981243, train acc: 0.632973687740305\n",
            " val loss: 1.0393013256661436, val acc: 0.6407136526513607\n",
            "\n",
            "Epoch 16\n",
            " train loss: 1.0456961627634178, train acc: 0.6331124314442413\n",
            " val loss: 1.0403767431035955, val acc: 0.6349512412192974\n",
            "\n",
            "Epoch 17\n",
            " train loss: 1.0414638921373287, train acc: 0.6361443915794275\n",
            " val loss: 1.0372525194857982, val acc: 0.6374335106382979\n",
            "\n",
            "Epoch 18\n",
            " train loss: 1.0375046517556938, train acc: 0.6390049622089379\n",
            " val loss: 1.0368415373436948, val acc: 0.6388076241980207\n",
            "\n",
            "Epoch 19\n",
            " train loss: 1.0362132301714129, train acc: 0.6373890049932643\n",
            " val loss: 1.0459801724616518, val acc: 0.6395390071767442\n",
            "\n"
          ]
        }
      ]
    },
    {
      "cell_type": "code",
      "source": [
        "test_loss, test_acc = test(net, test_loader)\n",
        "print(f\"Потери на тестовой выборке: {test_loss:.4f}; Точность на тестовой выборке: {test_acc:.4%}\")"
      ],
      "metadata": {
        "id": "wq7Snq8LJAFb",
        "colab": {
          "base_uri": "https://localhost:8080/"
        },
        "outputId": "27759ce5-706c-4a47-adc5-dd8951ed11bf"
      },
      "execution_count": 34,
      "outputs": [
        {
          "output_type": "stream",
          "name": "stdout",
          "text": [
            "Потери на тестовой выборке: 0.8989; Точность на тестовой выборке: 69.1779%\n"
          ]
        }
      ]
    },
    {
      "cell_type": "markdown",
      "metadata": {
        "id": "4K-MptLiO9Dv",
        "pycharm": {
          "name": "#%% md\n"
        }
      },
      "source": [
        "Your answers here:"
      ]
    },
    {
      "cell_type": "markdown",
      "source": [
        "Методы RandomHorizontalFlip, RandomRotation и ColorJitter показали наилучшие результаты при обучении модели. Точность возросла до ~72%.\n",
        "Использование всех методов вместе показало снижение точности до 69.18%. Это может быть связано с переусложнением задачи из-за сильного изменения исходных данных.\n",
        "При этом все аугментации оказались хуже MultiStepLR."
      ],
      "metadata": {
        "id": "mevLxnavjNOu"
      }
    },
    {
      "cell_type": "markdown",
      "metadata": {
        "id": "HCENjLw5O9Dv",
        "pycharm": {
          "name": "#%% md\n"
        }
      },
      "source": [
        "## Бонус. Логирование в wandb (2 балла)"
      ]
    },
    {
      "cell_type": "markdown",
      "metadata": {
        "id": "xOyzc1mnO9Dv",
        "pycharm": {
          "name": "#%% md\n"
        }
      },
      "source": [
        "На практике специалиста по глубинному обучению часто встречаются ситуации, когда нейросеть учится на каком-то удаленном сервере. И обычно вам хочется отслеживать прогресс обучения, особенно когда время обучения модели исчисляется днями или неделями. Для таких целей существует несколько инструментов. Вероятно, самый популярный из них — [wandb](https://wandb.ai/site).\n",
        "\n",
        "Ваша задача состоит в том, чтобы разобраться как им пользоваться, и повторить задания 2.1 и 2.2 с его использованием. Обучение вы можете запускать в этом же ноутбуке, но теперь вам необходимо через wandb логировать значения функции потерь и точности на обучающей выборке и на валидационной. Результатом работы должны быть ваш код и публичная ссылка на страничку с графиками, идентичными графикам в задании 2.2."
      ]
    },
    {
      "cell_type": "code",
      "execution_count": 37,
      "metadata": {
        "id": "m5gSTLAr_QS4",
        "pycharm": {
          "name": "#%%\n"
        },
        "colab": {
          "base_uri": "https://localhost:8080/"
        },
        "outputId": "4ca46b2a-0325-4739-812c-286090e9bbd3"
      },
      "outputs": [
        {
          "output_type": "stream",
          "name": "stdout",
          "text": [
            "Requirement already satisfied: wandb in /usr/local/lib/python3.10/dist-packages (0.18.7)\n",
            "Requirement already satisfied: click!=8.0.0,>=7.1 in /usr/local/lib/python3.10/dist-packages (from wandb) (8.1.7)\n",
            "Requirement already satisfied: docker-pycreds>=0.4.0 in /usr/local/lib/python3.10/dist-packages (from wandb) (0.4.0)\n",
            "Requirement already satisfied: gitpython!=3.1.29,>=1.0.0 in /usr/local/lib/python3.10/dist-packages (from wandb) (3.1.43)\n",
            "Requirement already satisfied: platformdirs in /usr/local/lib/python3.10/dist-packages (from wandb) (4.3.6)\n",
            "Requirement already satisfied: protobuf!=4.21.0,!=5.28.0,<6,>=3.19.0 in /usr/local/lib/python3.10/dist-packages (from wandb) (4.25.5)\n",
            "Requirement already satisfied: psutil>=5.0.0 in /usr/local/lib/python3.10/dist-packages (from wandb) (5.9.5)\n",
            "Requirement already satisfied: pyyaml in /usr/local/lib/python3.10/dist-packages (from wandb) (6.0.2)\n",
            "Requirement already satisfied: requests<3,>=2.0.0 in /usr/local/lib/python3.10/dist-packages (from wandb) (2.32.3)\n",
            "Requirement already satisfied: sentry-sdk>=2.0.0 in /usr/local/lib/python3.10/dist-packages (from wandb) (2.18.0)\n",
            "Requirement already satisfied: setproctitle in /usr/local/lib/python3.10/dist-packages (from wandb) (1.3.4)\n",
            "Requirement already satisfied: setuptools in /usr/local/lib/python3.10/dist-packages (from wandb) (75.1.0)\n",
            "Requirement already satisfied: typing-extensions<5,>=4.4 in /usr/local/lib/python3.10/dist-packages (from wandb) (4.12.2)\n",
            "Requirement already satisfied: six>=1.4.0 in /usr/local/lib/python3.10/dist-packages (from docker-pycreds>=0.4.0->wandb) (1.16.0)\n",
            "Requirement already satisfied: gitdb<5,>=4.0.1 in /usr/local/lib/python3.10/dist-packages (from gitpython!=3.1.29,>=1.0.0->wandb) (4.0.11)\n",
            "Requirement already satisfied: charset-normalizer<4,>=2 in /usr/local/lib/python3.10/dist-packages (from requests<3,>=2.0.0->wandb) (3.4.0)\n",
            "Requirement already satisfied: idna<4,>=2.5 in /usr/local/lib/python3.10/dist-packages (from requests<3,>=2.0.0->wandb) (3.10)\n",
            "Requirement already satisfied: urllib3<3,>=1.21.1 in /usr/local/lib/python3.10/dist-packages (from requests<3,>=2.0.0->wandb) (2.2.3)\n",
            "Requirement already satisfied: certifi>=2017.4.17 in /usr/local/lib/python3.10/dist-packages (from requests<3,>=2.0.0->wandb) (2024.8.30)\n",
            "Requirement already satisfied: smmap<6,>=3.0.1 in /usr/local/lib/python3.10/dist-packages (from gitdb<5,>=4.0.1->gitpython!=3.1.29,>=1.0.0->wandb) (5.0.1)\n"
          ]
        }
      ],
      "source": [
        "pip install wandb"
      ]
    },
    {
      "cell_type": "code",
      "source": [
        "import wandb"
      ],
      "metadata": {
        "id": "j6CkOImVkbfu"
      },
      "execution_count": 38,
      "outputs": []
    },
    {
      "cell_type": "code",
      "source": [
        "wandb.init(project=\"cifar10-classification\", name=\"BasicBlockNet-Experiment\")\n"
      ],
      "metadata": {
        "colab": {
          "base_uri": "https://localhost:8080/",
          "height": 628
        },
        "id": "OHK5xh08kfNV",
        "outputId": "4feff9b3-30f4-4fcd-96ce-76abe3f34c3e"
      },
      "execution_count": 39,
      "outputs": [
        {
          "output_type": "stream",
          "name": "stderr",
          "text": [
            "\u001b[34m\u001b[1mwandb\u001b[0m: Using wandb-core as the SDK backend.  Please refer to https://wandb.me/wandb-core for more information.\n"
          ]
        },
        {
          "output_type": "display_data",
          "data": {
            "text/plain": [
              "<IPython.core.display.Javascript object>"
            ],
            "application/javascript": [
              "\n",
              "        window._wandbApiKey = new Promise((resolve, reject) => {\n",
              "            function loadScript(url) {\n",
              "            return new Promise(function(resolve, reject) {\n",
              "                let newScript = document.createElement(\"script\");\n",
              "                newScript.onerror = reject;\n",
              "                newScript.onload = resolve;\n",
              "                document.body.appendChild(newScript);\n",
              "                newScript.src = url;\n",
              "            });\n",
              "            }\n",
              "            loadScript(\"https://cdn.jsdelivr.net/npm/postmate/build/postmate.min.js\").then(() => {\n",
              "            const iframe = document.createElement('iframe')\n",
              "            iframe.style.cssText = \"width:0;height:0;border:none\"\n",
              "            document.body.appendChild(iframe)\n",
              "            const handshake = new Postmate({\n",
              "                container: iframe,\n",
              "                url: 'https://wandb.ai/authorize'\n",
              "            });\n",
              "            const timeout = setTimeout(() => reject(\"Couldn't auto authenticate\"), 5000)\n",
              "            handshake.then(function(child) {\n",
              "                child.on('authorize', data => {\n",
              "                    clearTimeout(timeout)\n",
              "                    resolve(data)\n",
              "                });\n",
              "            });\n",
              "            })\n",
              "        });\n",
              "    "
            ]
          },
          "metadata": {}
        },
        {
          "output_type": "stream",
          "name": "stderr",
          "text": [
            "\u001b[34m\u001b[1mwandb\u001b[0m: Logging into wandb.ai. (Learn how to deploy a W&B server locally: https://wandb.me/wandb-server)\n",
            "\u001b[34m\u001b[1mwandb\u001b[0m: You can find your API key in your browser here: https://wandb.ai/authorize\n",
            "wandb: Paste an API key from your profile and hit enter, or press ctrl+c to quit:"
          ]
        },
        {
          "name": "stdout",
          "output_type": "stream",
          "text": [
            " ··········\n"
          ]
        },
        {
          "output_type": "stream",
          "name": "stderr",
          "text": [
            "\u001b[34m\u001b[1mwandb\u001b[0m: Appending key for api.wandb.ai to your netrc file: /root/.netrc\n"
          ]
        },
        {
          "output_type": "display_data",
          "data": {
            "text/plain": [
              "<IPython.core.display.HTML object>"
            ],
            "text/html": [
              "Tracking run with wandb version 0.18.7"
            ]
          },
          "metadata": {}
        },
        {
          "output_type": "display_data",
          "data": {
            "text/plain": [
              "<IPython.core.display.HTML object>"
            ],
            "text/html": [
              "Run data is saved locally in <code>/content/wandb/run-20241123_151343-zw582xc8</code>"
            ]
          },
          "metadata": {}
        },
        {
          "output_type": "display_data",
          "data": {
            "text/plain": [
              "<IPython.core.display.HTML object>"
            ],
            "text/html": [
              "Syncing run <strong><a href='https://wandb.ai/vpalysaev-hse-university/cifar10-classification/runs/zw582xc8' target=\"_blank\">BasicBlockNet-Experiment</a></strong> to <a href='https://wandb.ai/vpalysaev-hse-university/cifar10-classification' target=\"_blank\">Weights & Biases</a> (<a href='https://wandb.me/developer-guide' target=\"_blank\">docs</a>)<br/>"
            ]
          },
          "metadata": {}
        },
        {
          "output_type": "display_data",
          "data": {
            "text/plain": [
              "<IPython.core.display.HTML object>"
            ],
            "text/html": [
              " View project at <a href='https://wandb.ai/vpalysaev-hse-university/cifar10-classification' target=\"_blank\">https://wandb.ai/vpalysaev-hse-university/cifar10-classification</a>"
            ]
          },
          "metadata": {}
        },
        {
          "output_type": "display_data",
          "data": {
            "text/plain": [
              "<IPython.core.display.HTML object>"
            ],
            "text/html": [
              " View run at <a href='https://wandb.ai/vpalysaev-hse-university/cifar10-classification/runs/zw582xc8' target=\"_blank\">https://wandb.ai/vpalysaev-hse-university/cifar10-classification/runs/zw582xc8</a>"
            ]
          },
          "metadata": {}
        },
        {
          "output_type": "execute_result",
          "data": {
            "text/html": [
              "<button onClick=\"this.nextSibling.style.display='block';this.style.display='none';\">Display W&B run</button><iframe src='https://wandb.ai/vpalysaev-hse-university/cifar10-classification/runs/zw582xc8?jupyter=true' style='border:none;width:100%;height:420px;display:none;'></iframe>"
            ],
            "text/plain": [
              "<wandb.sdk.wandb_run.Run at 0x7f7c822d9000>"
            ]
          },
          "metadata": {},
          "execution_count": 39
        }
      ]
    },
    {
      "cell_type": "code",
      "source": [
        "def train_epoch(model, optimizer, train_loader, epoch):\n",
        "    loss_log = []\n",
        "    acc_log = []\n",
        "    model.train()\n",
        "\n",
        "    for batch_idx, (data, target) in enumerate(train_loader):\n",
        "        data, target = data.to(device), target.to(device)\n",
        "\n",
        "        optimizer.zero_grad()\n",
        "        outputs = model(data)\n",
        "        loss = F.cross_entropy(outputs, target)\n",
        "        loss.backward()\n",
        "        optimizer.step()\n",
        "\n",
        "        loss_log.append(loss.item())\n",
        "\n",
        "        preds = outputs.argmax(dim=1)\n",
        "        correct = preds.eq(target)\n",
        "        acc = correct.float().mean()\n",
        "        acc_log.append(acc.item())\n",
        "\n",
        "        wandb.log({\n",
        "            \"Train Loss\": loss.item(),\n",
        "            \"Train Accuracy\": acc.item(),\n",
        "            \"Epoch\": epoch + 1\n",
        "        })\n",
        "\n",
        "    return loss_log, acc_log"
      ],
      "metadata": {
        "id": "2xa1tZ33lku1"
      },
      "execution_count": 40,
      "outputs": []
    },
    {
      "cell_type": "code",
      "source": [
        "def test(model, loader, epoch, phase=\"Validation\"):\n",
        "    loss_log = []\n",
        "    acc_log = []\n",
        "    model.eval()\n",
        "\n",
        "    with torch.no_grad():\n",
        "        for data, target in loader:\n",
        "            data, target = data.to(device), target.to(device)\n",
        "\n",
        "            outputs = model(data)\n",
        "            loss = F.cross_entropy(outputs, target)\n",
        "            loss_log.append(loss.item())\n",
        "\n",
        "            preds = outputs.argmax(dim=1)\n",
        "            correct = preds.eq(target)\n",
        "            acc = correct.float().mean()\n",
        "            acc_log.append(acc.item())\n",
        "\n",
        "    avg_loss = np.mean(loss_log)\n",
        "    avg_acc = np.mean(acc_log)\n",
        "\n",
        "    wandb.log({\n",
        "        f\"{phase} Loss\": avg_loss,\n",
        "        f\"{phase} Accuracy\": avg_acc,\n",
        "        \"Epoch\": epoch + 1\n",
        "    })\n",
        "\n",
        "    return avg_loss, avg_acc"
      ],
      "metadata": {
        "id": "UeYh9u39luR9"
      },
      "execution_count": 41,
      "outputs": []
    },
    {
      "cell_type": "code",
      "source": [
        "def train(model, optimizer, n_epochs, train_loader, val_loader, scheduler=None):\n",
        "    for epoch in range(n_epochs):\n",
        "        train_loss, train_acc = train_epoch(model, optimizer, train_loader, epoch)\n",
        "        val_loss, val_acc = test(model, val_loader, epoch, phase=\"Validation\")\n",
        "\n",
        "        print(f\"Эпоха {epoch+1}/{n_epochs}\")\n",
        "        print(f\"Потери на обучении: {np.mean(train_loss):.4f}, Точность на обучении: {np.mean(train_acc)*100:.2f}%\")\n",
        "        print(f\"Потери на валидации: {val_loss:.4f}, Точность на валидации: {val_acc*100:.2f}%\\n\")\n",
        "\n",
        "        if scheduler is not None:\n",
        "            scheduler.step()"
      ],
      "metadata": {
        "id": "uzwkIqXEl7vE"
      },
      "execution_count": 42,
      "outputs": []
    },
    {
      "cell_type": "code",
      "source": [
        "wandb.init(project=\"cifar10-classification\", name=\"BasicBlockNet-Experiment\")\n",
        "\n",
        "transform = transforms.Compose([\n",
        "    transforms.RandomHorizontalFlip(),\n",
        "    transforms.ToTensor(),\n",
        "    transforms.Normalize((0.5,), (0.5,))\n",
        "])\n",
        "\n",
        "train_loader, val_loader, test_loader = get_cifar10_data(batch_size=64, transform_train=transform)\n",
        "\n",
        "net = BasicBlockNet().to(device)\n",
        "wandb.watch(net)\n",
        "\n",
        "optimizer = optim.SGD(net.parameters(), lr=0.1, momentum=0.9)\n",
        "scheduler = optim.lr_scheduler.MultiStepLR(optimizer, milestones=[10, 15], gamma=0.1)\n",
        "\n",
        "train(net, optimizer, n_epochs=20, train_loader=train_loader, val_loader=val_loader, scheduler=scheduler)\n",
        "\n",
        "test_loss, test_acc = test(net, test_loader, epoch=20, phase=\"Test\")\n",
        "print(f\"Потери на тестовой выборке: {test_loss:.4f}; Точность на тестовой выборке: {test_acc:.4%}\")"
      ],
      "metadata": {
        "colab": {
          "base_uri": "https://localhost:8080/",
          "height": 1000
        },
        "id": "4Iqv3wmbmMWc",
        "outputId": "4b784cf2-ff01-4818-fee7-1a6c75af9312"
      },
      "execution_count": 43,
      "outputs": [
        {
          "output_type": "display_data",
          "data": {
            "text/plain": [
              "<IPython.core.display.HTML object>"
            ],
            "text/html": [
              "Finishing last run (ID:zw582xc8) before initializing another..."
            ]
          },
          "metadata": {}
        },
        {
          "output_type": "display_data",
          "data": {
            "text/plain": [
              "<IPython.core.display.HTML object>"
            ],
            "text/html": [
              " View run <strong style=\"color:#cdcd00\">BasicBlockNet-Experiment</strong> at: <a href='https://wandb.ai/vpalysaev-hse-university/cifar10-classification/runs/zw582xc8' target=\"_blank\">https://wandb.ai/vpalysaev-hse-university/cifar10-classification/runs/zw582xc8</a><br/> View project at: <a href='https://wandb.ai/vpalysaev-hse-university/cifar10-classification' target=\"_blank\">https://wandb.ai/vpalysaev-hse-university/cifar10-classification</a><br/>Synced 5 W&B file(s), 0 media file(s), 0 artifact file(s) and 0 other file(s)"
            ]
          },
          "metadata": {}
        },
        {
          "output_type": "display_data",
          "data": {
            "text/plain": [
              "<IPython.core.display.HTML object>"
            ],
            "text/html": [
              "Find logs at: <code>./wandb/run-20241123_151343-zw582xc8/logs</code>"
            ]
          },
          "metadata": {}
        },
        {
          "output_type": "display_data",
          "data": {
            "text/plain": [
              "<IPython.core.display.HTML object>"
            ],
            "text/html": [
              "Successfully finished last run (ID:zw582xc8). Initializing new run:<br/>"
            ]
          },
          "metadata": {}
        },
        {
          "output_type": "display_data",
          "data": {
            "text/plain": [
              "<IPython.core.display.HTML object>"
            ],
            "text/html": [
              "Tracking run with wandb version 0.18.7"
            ]
          },
          "metadata": {}
        },
        {
          "output_type": "display_data",
          "data": {
            "text/plain": [
              "<IPython.core.display.HTML object>"
            ],
            "text/html": [
              "Run data is saved locally in <code>/content/wandb/run-20241123_151755-34ckbiwt</code>"
            ]
          },
          "metadata": {}
        },
        {
          "output_type": "display_data",
          "data": {
            "text/plain": [
              "<IPython.core.display.HTML object>"
            ],
            "text/html": [
              "Syncing run <strong><a href='https://wandb.ai/vpalysaev-hse-university/cifar10-classification/runs/34ckbiwt' target=\"_blank\">BasicBlockNet-Experiment</a></strong> to <a href='https://wandb.ai/vpalysaev-hse-university/cifar10-classification' target=\"_blank\">Weights & Biases</a> (<a href='https://wandb.me/developer-guide' target=\"_blank\">docs</a>)<br/>"
            ]
          },
          "metadata": {}
        },
        {
          "output_type": "display_data",
          "data": {
            "text/plain": [
              "<IPython.core.display.HTML object>"
            ],
            "text/html": [
              " View project at <a href='https://wandb.ai/vpalysaev-hse-university/cifar10-classification' target=\"_blank\">https://wandb.ai/vpalysaev-hse-university/cifar10-classification</a>"
            ]
          },
          "metadata": {}
        },
        {
          "output_type": "display_data",
          "data": {
            "text/plain": [
              "<IPython.core.display.HTML object>"
            ],
            "text/html": [
              " View run at <a href='https://wandb.ai/vpalysaev-hse-university/cifar10-classification/runs/34ckbiwt' target=\"_blank\">https://wandb.ai/vpalysaev-hse-university/cifar10-classification/runs/34ckbiwt</a>"
            ]
          },
          "metadata": {}
        },
        {
          "output_type": "stream",
          "name": "stdout",
          "text": [
            "Files already downloaded and verified\n",
            "Files already downloaded and verified\n",
            "Эпоха 1/20\n",
            "Потери на обучении: 1.4861, Точность на обучении: 46.95%\n",
            "Потери на валидации: 1.3090, Точность на валидации: 53.35%\n",
            "\n",
            "Эпоха 2/20\n",
            "Потери на обучении: 1.1881, Точность на обучении: 58.33%\n",
            "Потери на валидации: 1.1427, Точность на валидации: 60.45%\n",
            "\n",
            "Эпоха 3/20\n",
            "Потери на обучении: 1.0583, Точность на обучении: 62.92%\n",
            "Потери на валидации: 1.0722, Точность на валидации: 63.24%\n",
            "\n",
            "Эпоха 4/20\n",
            "Потери на обучении: 0.9946, Точность на обучении: 65.39%\n",
            "Потери на валидации: 1.0165, Точность на валидации: 65.02%\n",
            "\n",
            "Эпоха 5/20\n",
            "Потери на обучении: 0.9565, Точность на обучении: 66.70%\n",
            "Потери на валидации: 0.9769, Точность на валидации: 65.74%\n",
            "\n",
            "Эпоха 6/20\n",
            "Потери на обучении: 0.9210, Точность на обучении: 68.12%\n",
            "Потери на валидации: 0.9345, Точность на валидации: 67.10%\n",
            "\n",
            "Эпоха 7/20\n",
            "Потери на обучении: 0.9054, Точность на обучении: 69.04%\n",
            "Потери на валидации: 0.9465, Точность на валидации: 67.41%\n",
            "\n",
            "Эпоха 8/20\n",
            "Потери на обучении: 0.8951, Точность на обучении: 69.17%\n",
            "Потери на валидации: 0.8791, Точность на валидации: 69.70%\n",
            "\n",
            "Эпоха 9/20\n",
            "Потери на обучении: 0.8775, Точность на обучении: 69.73%\n",
            "Потери на валидации: 0.9147, Точность на валидации: 68.93%\n",
            "\n",
            "Эпоха 10/20\n",
            "Потери на обучении: 0.8585, Точность на обучении: 70.37%\n",
            "Потери на валидации: 0.8783, Точность на валидации: 70.45%\n",
            "\n",
            "Эпоха 11/20\n",
            "Потери на обучении: 0.7673, Точность на обучении: 73.73%\n",
            "Потери на валидации: 0.8034, Точность на валидации: 72.71%\n",
            "\n",
            "Эпоха 12/20\n",
            "Потери на обучении: 0.7537, Точность на обучении: 73.99%\n",
            "Потери на валидации: 0.7952, Точность на валидации: 72.73%\n",
            "\n",
            "Эпоха 13/20\n",
            "Потери на обучении: 0.7480, Точность на обучении: 74.09%\n",
            "Потери на валидации: 0.7930, Точность на валидации: 73.01%\n",
            "\n",
            "Эпоха 14/20\n",
            "Потери на обучении: 0.7432, Точность на обучении: 74.55%\n",
            "Потери на валидации: 0.7842, Точность на валидации: 73.30%\n",
            "\n",
            "Эпоха 15/20\n",
            "Потери на обучении: 0.7404, Точность на обучении: 74.52%\n",
            "Потери на валидации: 0.7899, Точность на валидации: 72.84%\n",
            "\n",
            "Эпоха 16/20\n",
            "Потери на обучении: 0.7294, Точность на обучении: 74.88%\n",
            "Потери на валидации: 0.7801, Точность на валидации: 73.51%\n",
            "\n",
            "Эпоха 17/20\n",
            "Потери на обучении: 0.7242, Точность на обучении: 75.22%\n",
            "Потери на валидации: 0.7779, Точность на валидации: 73.48%\n",
            "\n",
            "Эпоха 18/20\n",
            "Потери на обучении: 0.7239, Точность на обучении: 75.17%\n",
            "Потери на валидации: 0.7796, Точность на валидации: 73.35%\n",
            "\n",
            "Эпоха 19/20\n",
            "Потери на обучении: 0.7242, Точность на обучении: 75.24%\n",
            "Потери на валидации: 0.7779, Точность на валидации: 73.57%\n",
            "\n",
            "Эпоха 20/20\n",
            "Потери на обучении: 0.7239, Точность на обучении: 75.18%\n",
            "Потери на валидации: 0.7782, Точность на валидации: 73.40%\n",
            "\n",
            "Потери на тестовой выборке: 0.7981; Точность на тестовой выборке: 72.6811%\n"
          ]
        }
      ]
    },
    {
      "cell_type": "markdown",
      "source": [
        "Ссылка на графики в wandb: https://wandb.ai/vpalysaev-hse-university/cifar10-classification/runs/34ckbiwt?nw=nwuservpalysaev\n"
      ],
      "metadata": {
        "id": "VqImbxV9paIi"
      }
    }
  ],
  "metadata": {
    "accelerator": "GPU",
    "colab": {
      "provenance": [],
      "gpuType": "T4"
    },
    "kernelspec": {
      "display_name": "Python 3",
      "name": "python3"
    },
    "language_info": {
      "codemirror_mode": {
        "name": "ipython",
        "version": 3
      },
      "file_extension": ".py",
      "mimetype": "text/x-python",
      "name": "python",
      "nbconvert_exporter": "python",
      "pygments_lexer": "ipython3",
      "version": "3.10.4"
    }
  },
  "nbformat": 4,
  "nbformat_minor": 0
}